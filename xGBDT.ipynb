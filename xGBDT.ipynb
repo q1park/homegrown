{
 "cells": [
  {
   "cell_type": "code",
   "execution_count": 1,
   "metadata": {},
   "outputs": [],
   "source": [
    "%matplotlib inline\n",
    "from IPython.core.interactiveshell import InteractiveShell\n",
    "InteractiveShell.ast_node_interactivity = \"all\"\n",
    "\n",
    "import numpy as np\n",
    "import pandas as pd\n",
    "import matplotlib.pyplot as plt\n",
    "from sklearn.metrics import mean_squared_error\n",
    "\n",
    "# from gbdt import decisiontree, xgbdt"
   ]
  },
  {
   "cell_type": "markdown",
   "metadata": {},
   "source": [
    "# Data Loading\n",
    "\n",
    "Data Source: http://archive.ics.uci.edu/ml/machine-learning-databases/abalone/abalone.data"
   ]
  },
  {
   "cell_type": "code",
   "execution_count": 2,
   "metadata": {},
   "outputs": [],
   "source": [
    "features = ['sex', 'length', 'diameter', 'height', 'weight', \\\n",
    "            'shuck_weight', 'visc_weight', 'shell_weight']\n",
    "labels = ['rings']\n",
    "intsex = {'M':0, 'F':1, 'I':2}"
   ]
  },
  {
   "cell_type": "code",
   "execution_count": 3,
   "metadata": {},
   "outputs": [
    {
     "data": {
      "text/html": [
       "<div>\n",
       "<style scoped>\n",
       "    .dataframe tbody tr th:only-of-type {\n",
       "        vertical-align: middle;\n",
       "    }\n",
       "\n",
       "    .dataframe tbody tr th {\n",
       "        vertical-align: top;\n",
       "    }\n",
       "\n",
       "    .dataframe thead th {\n",
       "        text-align: right;\n",
       "    }\n",
       "</style>\n",
       "<table border=\"1\" class=\"dataframe\">\n",
       "  <thead>\n",
       "    <tr style=\"text-align: right;\">\n",
       "      <th></th>\n",
       "      <th>sex</th>\n",
       "      <th>length</th>\n",
       "      <th>diameter</th>\n",
       "      <th>height</th>\n",
       "      <th>weight</th>\n",
       "      <th>shuck_weight</th>\n",
       "      <th>visc_weight</th>\n",
       "      <th>shell_weight</th>\n",
       "      <th>rings</th>\n",
       "    </tr>\n",
       "  </thead>\n",
       "  <tbody>\n",
       "    <tr>\n",
       "      <th>4172</th>\n",
       "      <td>1</td>\n",
       "      <td>0.565</td>\n",
       "      <td>0.450</td>\n",
       "      <td>0.165</td>\n",
       "      <td>0.8870</td>\n",
       "      <td>0.3700</td>\n",
       "      <td>0.2390</td>\n",
       "      <td>0.2490</td>\n",
       "      <td>1</td>\n",
       "    </tr>\n",
       "    <tr>\n",
       "      <th>4173</th>\n",
       "      <td>0</td>\n",
       "      <td>0.590</td>\n",
       "      <td>0.440</td>\n",
       "      <td>0.135</td>\n",
       "      <td>0.9660</td>\n",
       "      <td>0.4390</td>\n",
       "      <td>0.2145</td>\n",
       "      <td>0.2605</td>\n",
       "      <td>1</td>\n",
       "    </tr>\n",
       "    <tr>\n",
       "      <th>4174</th>\n",
       "      <td>0</td>\n",
       "      <td>0.600</td>\n",
       "      <td>0.475</td>\n",
       "      <td>0.205</td>\n",
       "      <td>1.1760</td>\n",
       "      <td>0.5255</td>\n",
       "      <td>0.2875</td>\n",
       "      <td>0.3080</td>\n",
       "      <td>0</td>\n",
       "    </tr>\n",
       "    <tr>\n",
       "      <th>4175</th>\n",
       "      <td>1</td>\n",
       "      <td>0.625</td>\n",
       "      <td>0.485</td>\n",
       "      <td>0.150</td>\n",
       "      <td>1.0945</td>\n",
       "      <td>0.5310</td>\n",
       "      <td>0.2610</td>\n",
       "      <td>0.2960</td>\n",
       "      <td>1</td>\n",
       "    </tr>\n",
       "    <tr>\n",
       "      <th>4176</th>\n",
       "      <td>0</td>\n",
       "      <td>0.710</td>\n",
       "      <td>0.555</td>\n",
       "      <td>0.195</td>\n",
       "      <td>1.9485</td>\n",
       "      <td>0.9455</td>\n",
       "      <td>0.3765</td>\n",
       "      <td>0.4950</td>\n",
       "      <td>1</td>\n",
       "    </tr>\n",
       "  </tbody>\n",
       "</table>\n",
       "</div>"
      ],
      "text/plain": [
       "      sex  length  diameter  height  weight  shuck_weight  visc_weight  \\\n",
       "4172    1   0.565     0.450   0.165  0.8870        0.3700       0.2390   \n",
       "4173    0   0.590     0.440   0.135  0.9660        0.4390       0.2145   \n",
       "4174    0   0.600     0.475   0.205  1.1760        0.5255       0.2875   \n",
       "4175    1   0.625     0.485   0.150  1.0945        0.5310       0.2610   \n",
       "4176    0   0.710     0.555   0.195  1.9485        0.9455       0.3765   \n",
       "\n",
       "      shell_weight  rings  \n",
       "4172        0.2490      1  \n",
       "4173        0.2605      1  \n",
       "4174        0.3080      0  \n",
       "4175        0.2960      1  \n",
       "4176        0.4950      1  "
      ]
     },
     "execution_count": 3,
     "metadata": {},
     "output_type": "execute_result"
    }
   ],
   "source": [
    "data = pd.read_csv('data/abalone.data', names = features + labels)\n",
    "data['sex'] = data['sex'].replace(intsex)\n",
    "data.loc[(data['rings'] < 10), 'rings'] = 0\n",
    "data.loc[(data['rings'] >= 10), 'rings'] = 1\n",
    "data.tail()"
   ]
  },
  {
   "cell_type": "code",
   "execution_count": 4,
   "metadata": {},
   "outputs": [
    {
     "data": {
      "image/png": "[encoded data removed]",
      "text/plain": [
       "<Figure size 432x288 with 1 Axes>"
      ]
     },
     "metadata": {
      "needs_background": "light"
     },
     "output_type": "display_data"
    }
   ],
   "source": [
    "plt.hist(data['rings'], bins = 3)\n",
    "pass;"
   ]
  },
  {
   "cell_type": "code",
   "execution_count": 5,
   "metadata": {},
   "outputs": [
    {
     "data": {
      "text/html": [
       "<div>\n",
       "<style scoped>\n",
       "    .dataframe tbody tr th:only-of-type {\n",
       "        vertical-align: middle;\n",
       "    }\n",
       "\n",
       "    .dataframe tbody tr th {\n",
       "        vertical-align: top;\n",
       "    }\n",
       "\n",
       "    .dataframe thead th {\n",
       "        text-align: right;\n",
       "    }\n",
       "</style>\n",
       "<table border=\"1\" class=\"dataframe\">\n",
       "  <thead>\n",
       "    <tr style=\"text-align: right;\">\n",
       "      <th></th>\n",
       "      <th>sex</th>\n",
       "      <th>length</th>\n",
       "      <th>diameter</th>\n",
       "      <th>height</th>\n",
       "      <th>weight</th>\n",
       "      <th>shuck_weight</th>\n",
       "      <th>visc_weight</th>\n",
       "      <th>shell_weight</th>\n",
       "      <th>rings</th>\n",
       "    </tr>\n",
       "  </thead>\n",
       "  <tbody>\n",
       "    <tr>\n",
       "      <th>0</th>\n",
       "      <td>0.0</td>\n",
       "      <td>0.558282</td>\n",
       "      <td>0.561538</td>\n",
       "      <td>0.084071</td>\n",
       "      <td>0.181915</td>\n",
       "      <td>0.150874</td>\n",
       "      <td>0.132895</td>\n",
       "      <td>0.149254</td>\n",
       "      <td>1</td>\n",
       "    </tr>\n",
       "    <tr>\n",
       "      <th>1</th>\n",
       "      <td>0.0</td>\n",
       "      <td>0.429448</td>\n",
       "      <td>0.407692</td>\n",
       "      <td>0.079646</td>\n",
       "      <td>0.079809</td>\n",
       "      <td>0.066868</td>\n",
       "      <td>0.063816</td>\n",
       "      <td>0.069652</td>\n",
       "      <td>0</td>\n",
       "    </tr>\n",
       "    <tr>\n",
       "      <th>2</th>\n",
       "      <td>0.5</td>\n",
       "      <td>0.650307</td>\n",
       "      <td>0.646154</td>\n",
       "      <td>0.119469</td>\n",
       "      <td>0.239604</td>\n",
       "      <td>0.172379</td>\n",
       "      <td>0.186184</td>\n",
       "      <td>0.208955</td>\n",
       "      <td>0</td>\n",
       "    </tr>\n",
       "    <tr>\n",
       "      <th>3</th>\n",
       "      <td>0.0</td>\n",
       "      <td>0.539877</td>\n",
       "      <td>0.561538</td>\n",
       "      <td>0.110619</td>\n",
       "      <td>0.182623</td>\n",
       "      <td>0.144825</td>\n",
       "      <td>0.150000</td>\n",
       "      <td>0.154229</td>\n",
       "      <td>1</td>\n",
       "    </tr>\n",
       "    <tr>\n",
       "      <th>4</th>\n",
       "      <td>1.0</td>\n",
       "      <td>0.404908</td>\n",
       "      <td>0.392308</td>\n",
       "      <td>0.070796</td>\n",
       "      <td>0.072554</td>\n",
       "      <td>0.060148</td>\n",
       "      <td>0.051974</td>\n",
       "      <td>0.054726</td>\n",
       "      <td>0</td>\n",
       "    </tr>\n",
       "  </tbody>\n",
       "</table>\n",
       "</div>"
      ],
      "text/plain": [
       "   sex    length  diameter    height    weight  shuck_weight  visc_weight  \\\n",
       "0  0.0  0.558282  0.561538  0.084071  0.181915      0.150874     0.132895   \n",
       "1  0.0  0.429448  0.407692  0.079646  0.079809      0.066868     0.063816   \n",
       "2  0.5  0.650307  0.646154  0.119469  0.239604      0.172379     0.186184   \n",
       "3  0.0  0.539877  0.561538  0.110619  0.182623      0.144825     0.150000   \n",
       "4  1.0  0.404908  0.392308  0.070796  0.072554      0.060148     0.051974   \n",
       "\n",
       "   shell_weight  rings  \n",
       "0      0.149254      1  \n",
       "1      0.069652      0  \n",
       "2      0.208955      0  \n",
       "3      0.154229      1  \n",
       "4      0.054726      0  "
      ]
     },
     "execution_count": 5,
     "metadata": {},
     "output_type": "execute_result"
    }
   ],
   "source": [
    "for x in features:\n",
    "    data.loc[:, x] *= np.divide(1, data[x].max())\n",
    "\n",
    "data.head()"
   ]
  },
  {
   "cell_type": "code",
   "execution_count": 6,
   "metadata": {},
   "outputs": [],
   "source": [
    "sample = np.random.choice(data.index, size=int(len(data)*0.9), replace=False)\n",
    "df_train, df_test = data.iloc[sample], data.drop(sample)"
   ]
  },
  {
   "cell_type": "code",
   "execution_count": 7,
   "metadata": {},
   "outputs": [
    {
     "data": {
      "text/html": [
       "<div>\n",
       "<style scoped>\n",
       "    .dataframe tbody tr th:only-of-type {\n",
       "        vertical-align: middle;\n",
       "    }\n",
       "\n",
       "    .dataframe tbody tr th {\n",
       "        vertical-align: top;\n",
       "    }\n",
       "\n",
       "    .dataframe thead th {\n",
       "        text-align: right;\n",
       "    }\n",
       "</style>\n",
       "<table border=\"1\" class=\"dataframe\">\n",
       "  <thead>\n",
       "    <tr style=\"text-align: right;\">\n",
       "      <th></th>\n",
       "      <th>sex</th>\n",
       "      <th>length</th>\n",
       "      <th>diameter</th>\n",
       "      <th>height</th>\n",
       "      <th>weight</th>\n",
       "      <th>shuck_weight</th>\n",
       "      <th>visc_weight</th>\n",
       "      <th>shell_weight</th>\n",
       "      <th>rings</th>\n",
       "    </tr>\n",
       "  </thead>\n",
       "  <tbody>\n",
       "    <tr>\n",
       "      <th>702</th>\n",
       "      <td>0.5</td>\n",
       "      <td>0.546012</td>\n",
       "      <td>0.507692</td>\n",
       "      <td>0.092920</td>\n",
       "      <td>0.160149</td>\n",
       "      <td>0.120968</td>\n",
       "      <td>0.135526</td>\n",
       "      <td>0.122388</td>\n",
       "      <td>0</td>\n",
       "    </tr>\n",
       "    <tr>\n",
       "      <th>1429</th>\n",
       "      <td>1.0</td>\n",
       "      <td>0.171779</td>\n",
       "      <td>0.161538</td>\n",
       "      <td>0.030973</td>\n",
       "      <td>0.004955</td>\n",
       "      <td>0.003696</td>\n",
       "      <td>0.003289</td>\n",
       "      <td>0.003980</td>\n",
       "      <td>0</td>\n",
       "    </tr>\n",
       "    <tr>\n",
       "      <th>396</th>\n",
       "      <td>0.5</td>\n",
       "      <td>0.613497</td>\n",
       "      <td>0.607692</td>\n",
       "      <td>0.123894</td>\n",
       "      <td>0.253230</td>\n",
       "      <td>0.212702</td>\n",
       "      <td>0.231579</td>\n",
       "      <td>0.238806</td>\n",
       "      <td>1</td>\n",
       "    </tr>\n",
       "    <tr>\n",
       "      <th>4061</th>\n",
       "      <td>0.0</td>\n",
       "      <td>0.760736</td>\n",
       "      <td>0.715385</td>\n",
       "      <td>0.128319</td>\n",
       "      <td>0.322421</td>\n",
       "      <td>0.252016</td>\n",
       "      <td>0.282237</td>\n",
       "      <td>0.276617</td>\n",
       "      <td>1</td>\n",
       "    </tr>\n",
       "    <tr>\n",
       "      <th>1104</th>\n",
       "      <td>1.0</td>\n",
       "      <td>0.625767</td>\n",
       "      <td>0.623077</td>\n",
       "      <td>0.110619</td>\n",
       "      <td>0.240488</td>\n",
       "      <td>0.232863</td>\n",
       "      <td>0.183553</td>\n",
       "      <td>0.181095</td>\n",
       "      <td>0</td>\n",
       "    </tr>\n",
       "  </tbody>\n",
       "</table>\n",
       "</div>"
      ],
      "text/plain": [
       "      sex    length  diameter    height    weight  shuck_weight  visc_weight  \\\n",
       "702   0.5  0.546012  0.507692  0.092920  0.160149      0.120968     0.135526   \n",
       "1429  1.0  0.171779  0.161538  0.030973  0.004955      0.003696     0.003289   \n",
       "396   0.5  0.613497  0.607692  0.123894  0.253230      0.212702     0.231579   \n",
       "4061  0.0  0.760736  0.715385  0.128319  0.322421      0.252016     0.282237   \n",
       "1104  1.0  0.625767  0.623077  0.110619  0.240488      0.232863     0.183553   \n",
       "\n",
       "      shell_weight  rings  \n",
       "702       0.122388      0  \n",
       "1429      0.003980      0  \n",
       "396       0.238806      1  \n",
       "4061      0.276617      1  \n",
       "1104      0.181095      0  "
      ]
     },
     "execution_count": 7,
     "metadata": {},
     "output_type": "execute_result"
    },
    {
     "data": {
      "text/html": [
       "<div>\n",
       "<style scoped>\n",
       "    .dataframe tbody tr th:only-of-type {\n",
       "        vertical-align: middle;\n",
       "    }\n",
       "\n",
       "    .dataframe tbody tr th {\n",
       "        vertical-align: top;\n",
       "    }\n",
       "\n",
       "    .dataframe thead th {\n",
       "        text-align: right;\n",
       "    }\n",
       "</style>\n",
       "<table border=\"1\" class=\"dataframe\">\n",
       "  <thead>\n",
       "    <tr style=\"text-align: right;\">\n",
       "      <th></th>\n",
       "      <th>sex</th>\n",
       "      <th>length</th>\n",
       "      <th>diameter</th>\n",
       "      <th>height</th>\n",
       "      <th>weight</th>\n",
       "      <th>shuck_weight</th>\n",
       "      <th>visc_weight</th>\n",
       "      <th>shell_weight</th>\n",
       "      <th>rings</th>\n",
       "    </tr>\n",
       "  </thead>\n",
       "  <tbody>\n",
       "    <tr>\n",
       "      <th>4144</th>\n",
       "      <td>0.0</td>\n",
       "      <td>0.822086</td>\n",
       "      <td>0.823077</td>\n",
       "      <td>0.168142</td>\n",
       "      <td>0.590692</td>\n",
       "      <td>0.501680</td>\n",
       "      <td>0.386184</td>\n",
       "      <td>0.505473</td>\n",
       "      <td>1</td>\n",
       "    </tr>\n",
       "    <tr>\n",
       "      <th>4151</th>\n",
       "      <td>1.0</td>\n",
       "      <td>0.429448</td>\n",
       "      <td>0.384615</td>\n",
       "      <td>0.066372</td>\n",
       "      <td>0.059989</td>\n",
       "      <td>0.056116</td>\n",
       "      <td>0.046711</td>\n",
       "      <td>0.040796</td>\n",
       "      <td>0</td>\n",
       "    </tr>\n",
       "    <tr>\n",
       "      <th>4155</th>\n",
       "      <td>1.0</td>\n",
       "      <td>0.539877</td>\n",
       "      <td>0.538462</td>\n",
       "      <td>0.097345</td>\n",
       "      <td>0.134666</td>\n",
       "      <td>0.105847</td>\n",
       "      <td>0.117763</td>\n",
       "      <td>0.114428</td>\n",
       "      <td>0</td>\n",
       "    </tr>\n",
       "    <tr>\n",
       "      <th>4156</th>\n",
       "      <td>0.0</td>\n",
       "      <td>0.582822</td>\n",
       "      <td>0.569231</td>\n",
       "      <td>0.097345</td>\n",
       "      <td>0.173244</td>\n",
       "      <td>0.146841</td>\n",
       "      <td>0.140789</td>\n",
       "      <td>0.145274</td>\n",
       "      <td>0</td>\n",
       "    </tr>\n",
       "    <tr>\n",
       "      <th>4158</th>\n",
       "      <td>1.0</td>\n",
       "      <td>0.588957</td>\n",
       "      <td>0.546154</td>\n",
       "      <td>0.097345</td>\n",
       "      <td>0.159087</td>\n",
       "      <td>0.135081</td>\n",
       "      <td>0.117105</td>\n",
       "      <td>0.139303</td>\n",
       "      <td>0</td>\n",
       "    </tr>\n",
       "  </tbody>\n",
       "</table>\n",
       "</div>"
      ],
      "text/plain": [
       "      sex    length  diameter    height    weight  shuck_weight  visc_weight  \\\n",
       "4144  0.0  0.822086  0.823077  0.168142  0.590692      0.501680     0.386184   \n",
       "4151  1.0  0.429448  0.384615  0.066372  0.059989      0.056116     0.046711   \n",
       "4155  1.0  0.539877  0.538462  0.097345  0.134666      0.105847     0.117763   \n",
       "4156  0.0  0.582822  0.569231  0.097345  0.173244      0.146841     0.140789   \n",
       "4158  1.0  0.588957  0.546154  0.097345  0.159087      0.135081     0.117105   \n",
       "\n",
       "      shell_weight  rings  \n",
       "4144      0.505473      1  \n",
       "4151      0.040796      0  \n",
       "4155      0.114428      0  \n",
       "4156      0.145274      0  \n",
       "4158      0.139303      0  "
      ]
     },
     "execution_count": 7,
     "metadata": {},
     "output_type": "execute_result"
    }
   ],
   "source": [
    "df_train.tail()\n",
    "df_test.tail()"
   ]
  },
  {
   "cell_type": "markdown",
   "metadata": {},
   "source": [
    "# Kakashi"
   ]
  },
  {
   "cell_type": "code",
   "execution_count": 24,
   "metadata": {},
   "outputs": [],
   "source": [
    "import networkx as nx\n",
    "from networkx.drawing.nx_agraph import write_dot, graphviz_layout\n",
    "from graphviz import dot"
   ]
  },
  {
   "cell_type": "code",
   "execution_count": 30,
   "metadata": {},
   "outputs": [],
   "source": [
    "maxdepth = 3\n",
    "\n",
    "class decisiontree(nx.DiGraph):\n",
    "    def __init__(self):\n",
    "        super(decisiontree, self).__init__()\n",
    "        self.add_node('root', nodetype = 'fork', feature = None, splitval = None, weight = None)\n",
    "        \n",
    "    def _splitnode(self, node):\n",
    "        if node is 'root':\n",
    "            lname, rname = 'l', 'r'\n",
    "        else:\n",
    "            lname, rname = node + 'l', node + 'r'\n",
    "        self.add_node(lname, nodetype = None, feature = None, splitval = None, weight = None)\n",
    "        self.add_node(rname, nodetype = None, feature = None, splitval = None, weight = None)\n",
    "        self.add_edge(node, lname)\n",
    "        self.add_edge(node, rname)\n",
    "        \n",
    "    def listnodes(self):\n",
    "        return self.nodes\n",
    "        \n",
    "    def build(self, node, depth):\n",
    "        assert len(list(self.successors(node) ) ) == 0\n",
    "        \n",
    "        if depth > maxdepth:\n",
    "            self.nodes[node]['nodetype'] = 'leaf'\n",
    "            self.nodes[node]['weight'] = np.random.uniform(-1, 0)\n",
    "            return\n",
    "        else:\n",
    "            cointoss = np.random.uniform(0, 1)\n",
    "\n",
    "            if cointoss > 0.8:\n",
    "                self.nodes[node]['nodetype'] = 'leaf'\n",
    "                self.nodes[node]['weight'] = np.random.uniform(-1, 0)\n",
    "            else:\n",
    "                self.nodes[node]['nodetype'] = 'fork'\n",
    "                self.nodes[node]['splitval'] = np.random.uniform(0, 1)\n",
    "                self.nodes[node]['feature'] = np.random.randint(0,8)\n",
    "                self._splitnode(node)\n",
    "                self.build(list(self.successors(node) )[0], depth = depth + 1)\n",
    "                self.build(list(self.successors(node) )[1], depth = depth + 1 )\n",
    "            \n",
    "    def run(self, x, node):\n",
    "        if self.nodes[node]['nodetype'] is 'leaf':\n",
    "            return self.nodes[node]['weight']\n",
    "        else:\n",
    "            if x[self.nodes[node]['feature']] <= self.nodes[node]['splitval']:\n",
    "                return self.run(x, list(self.successors(node) )[0])\n",
    "            else:\n",
    "                return self.run(x, list(self.successors(node) )[1])\n",
    "    \n"
   ]
  },
  {
   "cell_type": "code",
   "execution_count": null,
   "metadata": {},
   "outputs": [],
   "source": [
    "np.random.seed(1234)"
   ]
  },
  {
   "cell_type": "code",
   "execution_count": 31,
   "metadata": {},
   "outputs": [
    {
     "data": {
      "text/plain": [
       "array([1.        , 0.32515337, 0.31538462, 0.0619469 , 0.03733852,\n",
       "       0.02620968, 0.05394737, 0.03482587])"
      ]
     },
     "execution_count": 31,
     "metadata": {},
     "output_type": "execute_result"
    }
   ],
   "source": [
    "train_data.X[0]"
   ]
  },
  {
   "cell_type": "code",
   "execution_count": 32,
   "metadata": {},
   "outputs": [],
   "source": [
    "tree = decisiontree()"
   ]
  },
  {
   "cell_type": "code",
   "execution_count": 33,
   "metadata": {},
   "outputs": [],
   "source": [
    "tree.build('root', depth = 0)"
   ]
  },
  {
   "cell_type": "code",
   "execution_count": 34,
   "metadata": {},
   "outputs": [
    {
     "data": {
      "text/plain": [
       "Text(0.5, 1.0, 'draw_networkx')"
      ]
     },
     "execution_count": 34,
     "metadata": {},
     "output_type": "execute_result"
    },
    {
     "data": {
      "image/png": "[encoded data removed]",
      "text/plain": [
       "<Figure size 432x288 with 1 Axes>"
      ]
     },
     "metadata": {},
     "output_type": "display_data"
    }
   ],
   "source": [
    "plt.title('draw_networkx')\n",
    "pos=graphviz_layout(tree, prog='dot')\n",
    "nx.draw(tree, pos, with_labels=True, arrows=False, node_size=1000, node_color='gray')"
   ]
  },
  {
   "cell_type": "code",
   "execution_count": 44,
   "metadata": {},
   "outputs": [
    {
     "data": {
      "text/plain": [
       "-0.5197923420201332"
      ]
     },
     "execution_count": 44,
     "metadata": {},
     "output_type": "execute_result"
    }
   ],
   "source": [
    "tree.run(train_data.X[6], 'root')"
   ]
  },
  {
   "cell_type": "code",
   "execution_count": 41,
   "metadata": {},
   "outputs": [
    {
     "data": {
      "text/plain": [
       "{'root': None,\n",
       " 'l': None,\n",
       " 'r': None,\n",
       " 'll': None,\n",
       " 'lr': None,\n",
       " 'lll': -0.5197923420201332,\n",
       " 'llr': None,\n",
       " 'llrl': -0.48684159206800115,\n",
       " 'llrr': -0.34768597270842483,\n",
       " 'lrl': None,\n",
       " 'lrr': None,\n",
       " 'lrll': -0.36993487010443504,\n",
       " 'lrlr': -0.5330485938131926,\n",
       " 'lrrl': -0.49917962689343864,\n",
       " 'lrrr': -0.7915872422976127,\n",
       " 'rl': None,\n",
       " 'rr': None,\n",
       " 'rll': -0.7559342314223427,\n",
       " 'rlr': None,\n",
       " 'rlrl': -0.8775207038834926,\n",
       " 'rlrr': -0.7914036114409989,\n",
       " 'rrl': None,\n",
       " 'rrr': -0.14772765268350807,\n",
       " 'rrll': -0.04877141031254573,\n",
       " 'rrlr': -0.26715117091738516}"
      ]
     },
     "execution_count": 41,
     "metadata": {},
     "output_type": "execute_result"
    },
    {
     "data": {
      "text/plain": [
       "{'root': 4,\n",
       " 'l': 0,\n",
       " 'r': 6,\n",
       " 'll': 7,\n",
       " 'lr': 4,\n",
       " 'lll': None,\n",
       " 'llr': 7,\n",
       " 'llrl': None,\n",
       " 'llrr': None,\n",
       " 'lrl': 1,\n",
       " 'lrr': 5,\n",
       " 'lrll': None,\n",
       " 'lrlr': None,\n",
       " 'lrrl': None,\n",
       " 'lrrr': None,\n",
       " 'rl': 7,\n",
       " 'rr': 4,\n",
       " 'rll': None,\n",
       " 'rlr': 1,\n",
       " 'rlrl': None,\n",
       " 'rlrr': None,\n",
       " 'rrl': 0,\n",
       " 'rrr': None,\n",
       " 'rrll': None,\n",
       " 'rrlr': None}"
      ]
     },
     "execution_count": 41,
     "metadata": {},
     "output_type": "execute_result"
    }
   ],
   "source": [
    "nx.get_node_attributes(tree, 'weight')\n",
    "nx.get_node_attributes(tree, 'feature')"
   ]
  },
  {
   "cell_type": "code",
   "execution_count": 118,
   "metadata": {},
   "outputs": [
    {
     "data": {
      "text/plain": [
       "<dict_keyiterator at 0x7f293565ae58>"
      ]
     },
     "execution_count": 118,
     "metadata": {},
     "output_type": "execute_result"
    }
   ],
   "source": [
    "tree.successors('l')"
   ]
  },
  {
   "cell_type": "code",
   "execution_count": 115,
   "metadata": {},
   "outputs": [],
   "source": [
    "tree.nodes['root']['splitval'] = 5.0"
   ]
  },
  {
   "cell_type": "code",
   "execution_count": 116,
   "metadata": {},
   "outputs": [
    {
     "data": {
      "text/plain": [
       "{'root': 5.0, 'l': None, 'r': None, 'll': None, 'lr': None}"
      ]
     },
     "execution_count": 116,
     "metadata": {},
     "output_type": "execute_result"
    }
   ],
   "source": [
    "nx.get_node_attributes(tree, 'splitval')"
   ]
  },
  {
   "cell_type": "code",
   "execution_count": 106,
   "metadata": {},
   "outputs": [
    {
     "data": {
      "text/plain": [
       "{'node_dict_factory': dict,\n",
       " 'adjlist_outer_dict_factory': dict,\n",
       " 'adjlist_inner_dict_factory': dict,\n",
       " 'edge_attr_dict_factory': dict,\n",
       " 'graph': {},\n",
       " '_node': {'root': {'nodetype': 'node',\n",
       "   'feature': None,\n",
       "   'splitval': 5.0,\n",
       "   'weight': None},\n",
       "  'l': {'nodetype': None, 'feature': None, 'splitval': 5.0, 'weight': None},\n",
       "  'r': {'nodetype': None, 'feature': None, 'splitval': 5.0, 'weight': None},\n",
       "  'll': {'nodetype': None, 'feature': None, 'splitval': 5.0, 'weight': None},\n",
       "  'lr': {'nodetype': None, 'feature': None, 'splitval': 5.0, 'weight': None}},\n",
       " '_adj': {'root': {'l': {}, 'r': {}},\n",
       "  'l': {'ll': {}, 'lr': {}},\n",
       "  'r': {},\n",
       "  'll': {},\n",
       "  'lr': {}},\n",
       " '_pred': {'root': {},\n",
       "  'l': {'root': {}},\n",
       "  'r': {'root': {}},\n",
       "  'll': {'l': {}},\n",
       "  'lr': {'l': {}}},\n",
       " '_succ': {'root': {'l': {}, 'r': {}},\n",
       "  'l': {'ll': {}, 'lr': {}},\n",
       "  'r': {},\n",
       "  'll': {},\n",
       "  'lr': {}},\n",
       " 'nodes': NodeView(('root', 'l', 'r', 'll', 'lr'))}"
      ]
     },
     "execution_count": 106,
     "metadata": {},
     "output_type": "execute_result"
    }
   ],
   "source": [
    "tree.__dict__"
   ]
  },
  {
   "cell_type": "code",
   "execution_count": 17,
   "metadata": {},
   "outputs": [
    {
     "data": {
      "text/plain": [
       "Text(0.5, 1.0, 'draw_networkx')"
      ]
     },
     "execution_count": 17,
     "metadata": {},
     "output_type": "execute_result"
    },
    {
     "name": "stderr",
     "output_type": "stream",
     "text": [
      "/home/q1park/anaconda3/envs/py36/lib/python3.6/site-packages/networkx/drawing/nx_pylab.py:611: MatplotlibDeprecationWarning: isinstance(..., numbers.Number)\n",
      "  if cb.is_numlike(alpha):\n"
     ]
    },
    {
     "data": {
      "image/png": "[encoded data removed]",
      "text/plain": [
       "<Figure size 432x288 with 1 Axes>"
      ]
     },
     "metadata": {},
     "output_type": "display_data"
    }
   ],
   "source": [
    "G = nx.DiGraph()\n",
    "\n",
    "G.add_node(\"ROOT\")\n",
    "\n",
    "for i in range(3):\n",
    "    G.add_node(\"Child_%i\" % i)\n",
    "    G.add_node(\"Grandchild_%i\" % i)\n",
    "\n",
    "    G.add_edge(\"ROOT\", \"Child_%i\" % i)\n",
    "    G.add_edge(\"Child_%i\" % i, \"Grandchild_%i\" % i)\n",
    "    \n",
    "plt.title('draw_networkx')\n",
    "pos=graphviz_layout(G, prog='dot')\n",
    "nx.draw(G, pos, with_labels=True, arrows=False, node_size=1000, node_color='gray')"
   ]
  },
  {
   "cell_type": "code",
   "execution_count": 18,
   "metadata": {},
   "outputs": [
    {
     "data": {
      "text/plain": [
       "{'node_dict_factory': dict,\n",
       " 'adjlist_outer_dict_factory': dict,\n",
       " 'adjlist_inner_dict_factory': dict,\n",
       " 'edge_attr_dict_factory': dict,\n",
       " 'graph': {},\n",
       " '_node': {'ROOT': {},\n",
       "  'Child_0': {},\n",
       "  'Grandchild_0': {},\n",
       "  'Child_1': {},\n",
       "  'Grandchild_1': {},\n",
       "  'Child_2': {},\n",
       "  'Grandchild_2': {}},\n",
       " '_adj': {'ROOT': {'Child_0': {}, 'Child_1': {}, 'Child_2': {}},\n",
       "  'Child_0': {'Grandchild_0': {}},\n",
       "  'Grandchild_0': {},\n",
       "  'Child_1': {'Grandchild_1': {}},\n",
       "  'Grandchild_1': {},\n",
       "  'Child_2': {'Grandchild_2': {}},\n",
       "  'Grandchild_2': {}},\n",
       " '_pred': {'ROOT': {},\n",
       "  'Child_0': {'ROOT': {}},\n",
       "  'Grandchild_0': {'Child_0': {}},\n",
       "  'Child_1': {'ROOT': {}},\n",
       "  'Grandchild_1': {'Child_1': {}},\n",
       "  'Child_2': {'ROOT': {}},\n",
       "  'Grandchild_2': {'Child_2': {}}},\n",
       " '_succ': {'ROOT': {'Child_0': {}, 'Child_1': {}, 'Child_2': {}},\n",
       "  'Child_0': {'Grandchild_0': {}},\n",
       "  'Grandchild_0': {},\n",
       "  'Child_1': {'Grandchild_1': {}},\n",
       "  'Grandchild_1': {},\n",
       "  'Child_2': {'Grandchild_2': {}},\n",
       "  'Grandchild_2': {}},\n",
       " 'nodes': NodeView(('ROOT', 'Child_0', 'Grandchild_0', 'Child_1', 'Grandchild_1', 'Child_2', 'Grandchild_2'))}"
      ]
     },
     "execution_count": 18,
     "metadata": {},
     "output_type": "execute_result"
    }
   ],
   "source": [
    "G.__dict__"
   ]
  }
 ],
 "metadata": {
  "kernelspec": {
   "display_name": "py36",
   "language": "python",
   "name": "py36"
  },
  "language_info": {
   "codemirror_mode": {
    "name": "ipython",
    "version": 3
   },
   "file_extension": ".py",
   "mimetype": "text/x-python",
   "name": "python",
   "nbconvert_exporter": "python",
   "pygments_lexer": "ipython3",
   "version": "3.6.7"
  }
 },
 "nbformat": 4,
 "nbformat_minor": 2
}
