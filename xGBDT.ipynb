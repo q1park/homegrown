{
 "cells": [
  {
   "cell_type": "code",
   "execution_count": 1,
   "metadata": {},
   "outputs": [],
   "source": [
    "%matplotlib inline\n",
    "from IPython.core.interactiveshell import InteractiveShell\n",
    "InteractiveShell.ast_node_interactivity = \"all\"\n",
    "\n",
    "import numpy as np\n",
    "import pandas as pd\n",
    "import matplotlib.pyplot as plt\n",
    "\n",
    "from gbdt import decisiontree, xgbdt"
   ]
  },
  {
   "cell_type": "markdown",
   "metadata": {},
   "source": [
    "# Data Loading\n",
    "\n",
    "Data Source: http://archive.ics.uci.edu/ml/machine-learning-databases/abalone/abalone.data"
   ]
  },
  {
   "cell_type": "code",
   "execution_count": 2,
   "metadata": {},
   "outputs": [],
   "source": [
    "features = ['sex', 'length', 'diameter', 'height', 'weight', \\\n",
    "            'shuck_weight', 'visc_weight', 'shell_weight']\n",
    "labels = ['rings']\n",
    "intsex = {'M':0, 'F':1, 'I':2}"
   ]
  },
  {
   "cell_type": "code",
   "execution_count": 3,
   "metadata": {},
   "outputs": [],
   "source": [
    "data = pd.read_csv('data/abalone.data', names = features + labels)\n",
    "\n",
    "data['sex'] = data['sex'].replace(intsex)\n",
    "data.loc[(data['rings'] < 10), 'rings'] = 0\n",
    "data.loc[(data['rings'] >= 10), 'rings'] = 1\n",
    "\n",
    "for x in features:\n",
    "    data.loc[:, x] *= np.divide(1, data[x].max())"
   ]
  },
  {
   "cell_type": "code",
   "execution_count": 4,
   "metadata": {},
   "outputs": [
    {
     "data": {
      "image/png": "[encoded data removed]",
      "text/plain": [
       "<Figure size 432x288 with 1 Axes>"
      ]
     },
     "metadata": {
      "needs_background": "light"
     },
     "output_type": "display_data"
    }
   ],
   "source": [
    "plt.hist(data['rings'], bins = 3)\n",
    "pass;"
   ]
  },
  {
   "cell_type": "code",
   "execution_count": 5,
   "metadata": {},
   "outputs": [
    {
     "data": {
      "text/html": [
       "<div>\n",
       "<style scoped>\n",
       "    .dataframe tbody tr th:only-of-type {\n",
       "        vertical-align: middle;\n",
       "    }\n",
       "\n",
       "    .dataframe tbody tr th {\n",
       "        vertical-align: top;\n",
       "    }\n",
       "\n",
       "    .dataframe thead th {\n",
       "        text-align: right;\n",
       "    }\n",
       "</style>\n",
       "<table border=\"1\" class=\"dataframe\">\n",
       "  <thead>\n",
       "    <tr style=\"text-align: right;\">\n",
       "      <th></th>\n",
       "      <th>sex</th>\n",
       "      <th>length</th>\n",
       "      <th>diameter</th>\n",
       "      <th>height</th>\n",
       "      <th>weight</th>\n",
       "      <th>shuck_weight</th>\n",
       "      <th>visc_weight</th>\n",
       "      <th>shell_weight</th>\n",
       "      <th>rings</th>\n",
       "    </tr>\n",
       "  </thead>\n",
       "  <tbody>\n",
       "    <tr>\n",
       "      <th>1557</th>\n",
       "      <td>1.0</td>\n",
       "      <td>0.521472</td>\n",
       "      <td>0.500000</td>\n",
       "      <td>0.097345</td>\n",
       "      <td>0.112193</td>\n",
       "      <td>0.090726</td>\n",
       "      <td>0.063158</td>\n",
       "      <td>0.089552</td>\n",
       "      <td>0</td>\n",
       "    </tr>\n",
       "    <tr>\n",
       "      <th>267</th>\n",
       "      <td>0.0</td>\n",
       "      <td>0.429448</td>\n",
       "      <td>0.423077</td>\n",
       "      <td>0.097345</td>\n",
       "      <td>0.103522</td>\n",
       "      <td>0.082325</td>\n",
       "      <td>0.083553</td>\n",
       "      <td>0.090050</td>\n",
       "      <td>0</td>\n",
       "    </tr>\n",
       "    <tr>\n",
       "      <th>216</th>\n",
       "      <td>0.0</td>\n",
       "      <td>0.552147</td>\n",
       "      <td>0.538462</td>\n",
       "      <td>0.115044</td>\n",
       "      <td>0.162803</td>\n",
       "      <td>0.116935</td>\n",
       "      <td>0.146053</td>\n",
       "      <td>0.134328</td>\n",
       "      <td>0</td>\n",
       "    </tr>\n",
       "    <tr>\n",
       "      <th>3931</th>\n",
       "      <td>1.0</td>\n",
       "      <td>0.674847</td>\n",
       "      <td>0.676923</td>\n",
       "      <td>0.146018</td>\n",
       "      <td>0.304548</td>\n",
       "      <td>0.209677</td>\n",
       "      <td>0.222368</td>\n",
       "      <td>0.298507</td>\n",
       "      <td>1</td>\n",
       "    </tr>\n",
       "    <tr>\n",
       "      <th>2038</th>\n",
       "      <td>1.0</td>\n",
       "      <td>0.343558</td>\n",
       "      <td>0.330769</td>\n",
       "      <td>0.070796</td>\n",
       "      <td>0.046717</td>\n",
       "      <td>0.048387</td>\n",
       "      <td>0.028947</td>\n",
       "      <td>0.032836</td>\n",
       "      <td>0</td>\n",
       "    </tr>\n",
       "  </tbody>\n",
       "</table>\n",
       "</div>"
      ],
      "text/plain": [
       "      sex    length  diameter    height    weight  shuck_weight  visc_weight  \\\n",
       "1557  1.0  0.521472  0.500000  0.097345  0.112193      0.090726     0.063158   \n",
       "267   0.0  0.429448  0.423077  0.097345  0.103522      0.082325     0.083553   \n",
       "216   0.0  0.552147  0.538462  0.115044  0.162803      0.116935     0.146053   \n",
       "3931  1.0  0.674847  0.676923  0.146018  0.304548      0.209677     0.222368   \n",
       "2038  1.0  0.343558  0.330769  0.070796  0.046717      0.048387     0.028947   \n",
       "\n",
       "      shell_weight  rings  \n",
       "1557      0.089552      0  \n",
       "267       0.090050      0  \n",
       "216       0.134328      0  \n",
       "3931      0.298507      1  \n",
       "2038      0.032836      0  "
      ]
     },
     "execution_count": 5,
     "metadata": {},
     "output_type": "execute_result"
    },
    {
     "data": {
      "text/html": [
       "<div>\n",
       "<style scoped>\n",
       "    .dataframe tbody tr th:only-of-type {\n",
       "        vertical-align: middle;\n",
       "    }\n",
       "\n",
       "    .dataframe tbody tr th {\n",
       "        vertical-align: top;\n",
       "    }\n",
       "\n",
       "    .dataframe thead th {\n",
       "        text-align: right;\n",
       "    }\n",
       "</style>\n",
       "<table border=\"1\" class=\"dataframe\">\n",
       "  <thead>\n",
       "    <tr style=\"text-align: right;\">\n",
       "      <th></th>\n",
       "      <th>sex</th>\n",
       "      <th>length</th>\n",
       "      <th>diameter</th>\n",
       "      <th>height</th>\n",
       "      <th>weight</th>\n",
       "      <th>shuck_weight</th>\n",
       "      <th>visc_weight</th>\n",
       "      <th>shell_weight</th>\n",
       "      <th>rings</th>\n",
       "    </tr>\n",
       "  </thead>\n",
       "  <tbody>\n",
       "    <tr>\n",
       "      <th>4128</th>\n",
       "      <td>0.0</td>\n",
       "      <td>0.680982</td>\n",
       "      <td>0.669231</td>\n",
       "      <td>0.128319</td>\n",
       "      <td>0.325783</td>\n",
       "      <td>0.271505</td>\n",
       "      <td>0.299342</td>\n",
       "      <td>0.253731</td>\n",
       "      <td>0</td>\n",
       "    </tr>\n",
       "    <tr>\n",
       "      <th>4129</th>\n",
       "      <td>1.0</td>\n",
       "      <td>0.699387</td>\n",
       "      <td>0.653846</td>\n",
       "      <td>0.123894</td>\n",
       "      <td>0.270925</td>\n",
       "      <td>0.222446</td>\n",
       "      <td>0.184211</td>\n",
       "      <td>0.238806</td>\n",
       "      <td>1</td>\n",
       "    </tr>\n",
       "    <tr>\n",
       "      <th>4130</th>\n",
       "      <td>0.0</td>\n",
       "      <td>0.711656</td>\n",
       "      <td>0.692308</td>\n",
       "      <td>0.123894</td>\n",
       "      <td>0.291630</td>\n",
       "      <td>0.232863</td>\n",
       "      <td>0.232237</td>\n",
       "      <td>0.261692</td>\n",
       "      <td>1</td>\n",
       "    </tr>\n",
       "    <tr>\n",
       "      <th>4166</th>\n",
       "      <td>1.0</td>\n",
       "      <td>0.582822</td>\n",
       "      <td>0.561538</td>\n",
       "      <td>0.101770</td>\n",
       "      <td>0.176606</td>\n",
       "      <td>0.155914</td>\n",
       "      <td>0.116447</td>\n",
       "      <td>0.155224</td>\n",
       "      <td>1</td>\n",
       "    </tr>\n",
       "    <tr>\n",
       "      <th>4169</th>\n",
       "      <td>0.0</td>\n",
       "      <td>0.638037</td>\n",
       "      <td>0.592308</td>\n",
       "      <td>0.146018</td>\n",
       "      <td>0.279950</td>\n",
       "      <td>0.252016</td>\n",
       "      <td>0.236842</td>\n",
       "      <td>0.180597</td>\n",
       "      <td>1</td>\n",
       "    </tr>\n",
       "  </tbody>\n",
       "</table>\n",
       "</div>"
      ],
      "text/plain": [
       "      sex    length  diameter    height    weight  shuck_weight  visc_weight  \\\n",
       "4128  0.0  0.680982  0.669231  0.128319  0.325783      0.271505     0.299342   \n",
       "4129  1.0  0.699387  0.653846  0.123894  0.270925      0.222446     0.184211   \n",
       "4130  0.0  0.711656  0.692308  0.123894  0.291630      0.232863     0.232237   \n",
       "4166  1.0  0.582822  0.561538  0.101770  0.176606      0.155914     0.116447   \n",
       "4169  0.0  0.638037  0.592308  0.146018  0.279950      0.252016     0.236842   \n",
       "\n",
       "      shell_weight  rings  \n",
       "4128      0.253731      0  \n",
       "4129      0.238806      1  \n",
       "4130      0.261692      1  \n",
       "4166      0.155224      1  \n",
       "4169      0.180597      1  "
      ]
     },
     "execution_count": 5,
     "metadata": {},
     "output_type": "execute_result"
    }
   ],
   "source": [
    "   \n",
    "sample = np.random.choice(data.index, size=int(len(data)*0.9), replace=False)\n",
    "df_train, df_valid = data.iloc[sample], data.drop(sample)\n",
    "\n",
    "df_train.tail()\n",
    "df_valid.tail()"
   ]
  },
  {
   "cell_type": "markdown",
   "metadata": {},
   "source": [
    "# xgBoosting"
   ]
  },
  {
   "cell_type": "code",
   "execution_count": 6,
   "metadata": {},
   "outputs": [],
   "source": [
    "df_train = df_train\n",
    "df_valid = df_valid"
   ]
  },
  {
   "cell_type": "code",
   "execution_count": 7,
   "metadata": {
    "scrolled": true
   },
   "outputs": [
    {
     "name": "stdout",
     "output_type": "stream",
     "text": [
      "Starting training\n",
      "Iter   0, Train Loss: 0.3448086649, Valid Loss: 0.32733, Time: 2.69 secs\n",
      "Iter   1, Train Loss: 0.1676611191, Valid Loss: 0.19305, Time: 3.81 secs\n",
      "Iter   2, Train Loss: 0.1518368699, Valid Loss: 0.17428, Time: 3.71 secs\n",
      "Iter   3, Train Loss: 0.1481054947, Valid Loss: 0.16955, Time: 3.88 secs\n",
      "Iter   4, Train Loss: 0.1473035614, Valid Loss: 0.16833, Time: 4.08 secs\n",
      "Iter   5, Train Loss: 0.1470756402, Valid Loss: 0.16797, Time: 4.50 secs\n",
      "Iter   6, Train Loss: 0.1470083654, Valid Loss: 0.16787, Time: 5.09 secs\n",
      "Iter   7, Train Loss: 0.1469882811, Valid Loss: 0.16784, Time: 4.87 secs\n",
      "Iter   8, Train Loss: 0.1469822646, Valid Loss: 0.16783, Time: 5.13 secs\n",
      "Iter   9, Train Loss: 0.1469804878, Valid Loss: 0.16783, Time: 5.60 secs\n",
      "Iter  10, Train Loss: 0.1469799548, Valid Loss: 0.16783, Time: 5.99 secs\n",
      "Iter  11, Train Loss: 0.1469797949, Valid Loss: 0.16783, Time: 6.35 secs\n",
      "Iter  12, Train Loss: 0.1469797470, Valid Loss: 0.16783, Time: 6.30 secs\n",
      "Iter  13, Train Loss: 0.1469797326, Valid Loss: 0.16783, Time: 6.32 secs\n",
      "Stopped early with best run:\n",
      "Iter   9, Valid Loss: 0.1678271488\n",
      "Training finished after 68.33 secs\n"
     ]
    }
   ],
   "source": [
    "params = {'gamma': 0.,\n",
    "          'lambda': 1.,\n",
    "          'maxdepth': 5,\n",
    "          'learnrate': 0.3,\n",
    "          'shrinkrate': 1.0,\n",
    "          'earlystop_rounds': 4,\n",
    "          'earlystop_precision': 1e-5,\n",
    "          'min_lossredux': 0.1}\n",
    "\n",
    "gbt = xgbdt(params)\n",
    "gbt.train(df_train, df_valid, features, labels, nboost = 100)"
   ]
  },
  {
   "cell_type": "code",
   "execution_count": 9,
   "metadata": {},
   "outputs": [
    {
     "data": {
      "image/png": "[encoded data removed]",
      "text/plain": [
       "<Figure size 432x288 with 1 Axes>"
      ]
     },
     "metadata": {},
     "output_type": "display_data"
    }
   ],
   "source": [
    "gbt.treeplot(0)\n",
    "gbt.treeplot(len(gbt.trees) - 10)\n",
    "gbt.treeplot(len(gbt.trees) - 1)"
   ]
  },
  {
   "cell_type": "code",
   "execution_count": null,
   "metadata": {},
   "outputs": [],
   "source": []
  }
 ],
 "metadata": {
  "kernelspec": {
   "display_name": "py36",
   "language": "python",
   "name": "py36"
  },
  "language_info": {
   "codemirror_mode": {
    "name": "ipython",
    "version": 3
   },
   "file_extension": ".py",
   "mimetype": "text/x-python",
   "name": "python",
   "nbconvert_exporter": "python",
   "pygments_lexer": "ipython3",
   "version": "3.6.7"
  }
 },
 "nbformat": 4,
 "nbformat_minor": 2
}
