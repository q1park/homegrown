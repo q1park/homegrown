{
 "cells": [
  {
   "cell_type": "code",
   "execution_count": 1,
   "metadata": {},
   "outputs": [],
   "source": [
    "%matplotlib inline\n",
    "from IPython.core.interactiveshell import InteractiveShell\n",
    "InteractiveShell.ast_node_interactivity = \"all\"\n",
    "\n",
    "import os\n",
    "import timeit\n",
    "import numpy as np\n",
    "import pandas as pd\n",
    "import matplotlib.pyplot as plt\n",
    "\n",
    "from mlp import network\n",
    "from dataloader import datasampler"
   ]
  },
  {
   "cell_type": "markdown",
   "metadata": {},
   "source": [
    "# Data Loading\n",
    "\n",
    "Data Source: http://archive.ics.uci.edu/ml/machine-learning-databases/abalone/abalone.data"
   ]
  },
  {
   "cell_type": "code",
   "execution_count": 2,
   "metadata": {},
   "outputs": [],
   "source": [
    "features = ['sex', 'length', 'diameter', 'height', 'weight', \\\n",
    "            'shuck_weight', 'visc_weight', 'shell_weight']\n",
    "labels = ['rings']\n",
    "intsex = {'M':0., 'F':1., 'I':2.}"
   ]
  },
  {
   "cell_type": "code",
   "execution_count": 3,
   "metadata": {},
   "outputs": [
    {
     "data": {
      "text/html": [
       "<div>\n",
       "<style scoped>\n",
       "    .dataframe tbody tr th:only-of-type {\n",
       "        vertical-align: middle;\n",
       "    }\n",
       "\n",
       "    .dataframe tbody tr th {\n",
       "        vertical-align: top;\n",
       "    }\n",
       "\n",
       "    .dataframe thead th {\n",
       "        text-align: right;\n",
       "    }\n",
       "</style>\n",
       "<table border=\"1\" class=\"dataframe\">\n",
       "  <thead>\n",
       "    <tr style=\"text-align: right;\">\n",
       "      <th></th>\n",
       "      <th>sex</th>\n",
       "      <th>length</th>\n",
       "      <th>diameter</th>\n",
       "      <th>height</th>\n",
       "      <th>weight</th>\n",
       "      <th>shuck_weight</th>\n",
       "      <th>visc_weight</th>\n",
       "      <th>shell_weight</th>\n",
       "      <th>rings</th>\n",
       "    </tr>\n",
       "  </thead>\n",
       "  <tbody>\n",
       "    <tr>\n",
       "      <th>4172</th>\n",
       "      <td>1.0</td>\n",
       "      <td>0.565</td>\n",
       "      <td>0.450</td>\n",
       "      <td>0.165</td>\n",
       "      <td>0.8870</td>\n",
       "      <td>0.3700</td>\n",
       "      <td>0.2390</td>\n",
       "      <td>0.2490</td>\n",
       "      <td>1</td>\n",
       "    </tr>\n",
       "    <tr>\n",
       "      <th>4173</th>\n",
       "      <td>0.0</td>\n",
       "      <td>0.590</td>\n",
       "      <td>0.440</td>\n",
       "      <td>0.135</td>\n",
       "      <td>0.9660</td>\n",
       "      <td>0.4390</td>\n",
       "      <td>0.2145</td>\n",
       "      <td>0.2605</td>\n",
       "      <td>1</td>\n",
       "    </tr>\n",
       "    <tr>\n",
       "      <th>4174</th>\n",
       "      <td>0.0</td>\n",
       "      <td>0.600</td>\n",
       "      <td>0.475</td>\n",
       "      <td>0.205</td>\n",
       "      <td>1.1760</td>\n",
       "      <td>0.5255</td>\n",
       "      <td>0.2875</td>\n",
       "      <td>0.3080</td>\n",
       "      <td>1</td>\n",
       "    </tr>\n",
       "    <tr>\n",
       "      <th>4175</th>\n",
       "      <td>1.0</td>\n",
       "      <td>0.625</td>\n",
       "      <td>0.485</td>\n",
       "      <td>0.150</td>\n",
       "      <td>1.0945</td>\n",
       "      <td>0.5310</td>\n",
       "      <td>0.2610</td>\n",
       "      <td>0.2960</td>\n",
       "      <td>1</td>\n",
       "    </tr>\n",
       "    <tr>\n",
       "      <th>4176</th>\n",
       "      <td>0.0</td>\n",
       "      <td>0.710</td>\n",
       "      <td>0.555</td>\n",
       "      <td>0.195</td>\n",
       "      <td>1.9485</td>\n",
       "      <td>0.9455</td>\n",
       "      <td>0.3765</td>\n",
       "      <td>0.4950</td>\n",
       "      <td>1</td>\n",
       "    </tr>\n",
       "  </tbody>\n",
       "</table>\n",
       "</div>"
      ],
      "text/plain": [
       "      sex  length  diameter  height  weight  shuck_weight  visc_weight  \\\n",
       "4172  1.0   0.565     0.450   0.165  0.8870        0.3700       0.2390   \n",
       "4173  0.0   0.590     0.440   0.135  0.9660        0.4390       0.2145   \n",
       "4174  0.0   0.600     0.475   0.205  1.1760        0.5255       0.2875   \n",
       "4175  1.0   0.625     0.485   0.150  1.0945        0.5310       0.2610   \n",
       "4176  0.0   0.710     0.555   0.195  1.9485        0.9455       0.3765   \n",
       "\n",
       "      shell_weight  rings  \n",
       "4172        0.2490      1  \n",
       "4173        0.2605      1  \n",
       "4174        0.3080      1  \n",
       "4175        0.2960      1  \n",
       "4176        0.4950      1  "
      ]
     },
     "execution_count": 3,
     "metadata": {},
     "output_type": "execute_result"
    }
   ],
   "source": [
    "data = pd.read_csv('data/abalone.data', names = features + labels)\n",
    "data['sex'] = data['sex'].replace(intsex)\n",
    "data.loc[(data['rings'] < 9), 'rings'] = 0\n",
    "data.loc[(data['rings'] >= 9) & (data['rings'] <= 12), 'rings'] = 1\n",
    "data.loc[(data['rings'] > 12), 'rings'] = 2\n",
    "data.tail()"
   ]
  },
  {
   "cell_type": "markdown",
   "metadata": {},
   "source": [
    "# Data Visualization"
   ]
  },
  {
   "cell_type": "code",
   "execution_count": 4,
   "metadata": {},
   "outputs": [],
   "source": [
    "def scatter(ax, data, xaxis, yaxis):\n",
    "    X = np.array(data[[xaxis, yaxis]])\n",
    "    Y = np.array(data[\"rings\"])\n",
    "    old = X[np.argwhere(Y==2)]\n",
    "    middle = X[np.argwhere(Y==1)]\n",
    "    young = X[np.argwhere(Y==0)]\n",
    "    ax.scatter([s[0][0] for s in old], [s[0][1] for s in old], \\\n",
    "               s = 25, color = 'red', edgecolor = 'k')\n",
    "    ax.scatter([s[0][0] for s in middle], [s[0][1] for s in middle], \\\n",
    "               s = 25, color = 'blue', edgecolor = 'k')\n",
    "    ax.scatter([s[0][0] for s in young], [s[0][1] for s in young], \\\n",
    "               s = 25, color = 'green', edgecolor = 'k')\n",
    "    ax.set_xlabel(xaxis)\n",
    "    ax.set_ylabel(yaxis)"
   ]
  },
  {
   "cell_type": "code",
   "execution_count": 5,
   "metadata": {},
   "outputs": [
    {
     "data": {
      "image/png": "[encoded data removed]",
      "text/plain": [
       "<Figure size 1080x360 with 3 Axes>"
      ]
     },
     "metadata": {
      "needs_background": "light"
     },
     "output_type": "display_data"
    }
   ],
   "source": [
    "ncols = 3\n",
    "fig, ax = plt.subplots(nrows=1, ncols=ncols)\n",
    "fig.set_figwidth(15)\n",
    "fig.set_figheight(5)\n",
    "scatter(ax[0], data[data['sex'] == 0], 'weight', 'length')\n",
    "scatter(ax[1], data[data['sex'] == 1], 'weight', 'length')\n",
    "scatter(ax[2], data[data['sex'] == 2], 'weight', 'length')"
   ]
  },
  {
   "cell_type": "code",
   "execution_count": 6,
   "metadata": {},
   "outputs": [
    {
     "data": {
      "image/png": "[encoded data removed]",
      "text/plain": [
       "<Figure size 432x288 with 1 Axes>"
      ]
     },
     "metadata": {
      "needs_background": "light"
     },
     "output_type": "display_data"
    }
   ],
   "source": [
    "plt.hist(data['rings'], bins = 5)\n",
    "pass;"
   ]
  },
  {
   "cell_type": "markdown",
   "metadata": {},
   "source": [
    "# Data Pre-Processing"
   ]
  },
  {
   "cell_type": "markdown",
   "metadata": {},
   "source": [
    "To demonstrate multi-category classifcation, we one-hot encode the admission variable"
   ]
  },
  {
   "cell_type": "code",
   "execution_count": 7,
   "metadata": {},
   "outputs": [
    {
     "data": {
      "text/html": [
       "<div>\n",
       "<style scoped>\n",
       "    .dataframe tbody tr th:only-of-type {\n",
       "        vertical-align: middle;\n",
       "    }\n",
       "\n",
       "    .dataframe tbody tr th {\n",
       "        vertical-align: top;\n",
       "    }\n",
       "\n",
       "    .dataframe thead th {\n",
       "        text-align: right;\n",
       "    }\n",
       "</style>\n",
       "<table border=\"1\" class=\"dataframe\">\n",
       "  <thead>\n",
       "    <tr style=\"text-align: right;\">\n",
       "      <th></th>\n",
       "      <th>sex</th>\n",
       "      <th>length</th>\n",
       "      <th>diameter</th>\n",
       "      <th>height</th>\n",
       "      <th>weight</th>\n",
       "      <th>shuck_weight</th>\n",
       "      <th>visc_weight</th>\n",
       "      <th>shell_weight</th>\n",
       "      <th>rings_0</th>\n",
       "      <th>rings_1</th>\n",
       "      <th>rings_2</th>\n",
       "    </tr>\n",
       "  </thead>\n",
       "  <tbody>\n",
       "    <tr>\n",
       "      <th>0</th>\n",
       "      <td>0.0</td>\n",
       "      <td>0.558282</td>\n",
       "      <td>0.561538</td>\n",
       "      <td>0.084071</td>\n",
       "      <td>0.181915</td>\n",
       "      <td>0.150874</td>\n",
       "      <td>0.132895</td>\n",
       "      <td>0.149254</td>\n",
       "      <td>0.0</td>\n",
       "      <td>0.0</td>\n",
       "      <td>1.0</td>\n",
       "    </tr>\n",
       "    <tr>\n",
       "      <th>1</th>\n",
       "      <td>0.0</td>\n",
       "      <td>0.429448</td>\n",
       "      <td>0.407692</td>\n",
       "      <td>0.079646</td>\n",
       "      <td>0.079809</td>\n",
       "      <td>0.066868</td>\n",
       "      <td>0.063816</td>\n",
       "      <td>0.069652</td>\n",
       "      <td>1.0</td>\n",
       "      <td>0.0</td>\n",
       "      <td>0.0</td>\n",
       "    </tr>\n",
       "    <tr>\n",
       "      <th>2</th>\n",
       "      <td>0.5</td>\n",
       "      <td>0.650307</td>\n",
       "      <td>0.646154</td>\n",
       "      <td>0.119469</td>\n",
       "      <td>0.239604</td>\n",
       "      <td>0.172379</td>\n",
       "      <td>0.186184</td>\n",
       "      <td>0.208955</td>\n",
       "      <td>0.0</td>\n",
       "      <td>1.0</td>\n",
       "      <td>0.0</td>\n",
       "    </tr>\n",
       "    <tr>\n",
       "      <th>3</th>\n",
       "      <td>0.0</td>\n",
       "      <td>0.539877</td>\n",
       "      <td>0.561538</td>\n",
       "      <td>0.110619</td>\n",
       "      <td>0.182623</td>\n",
       "      <td>0.144825</td>\n",
       "      <td>0.150000</td>\n",
       "      <td>0.154229</td>\n",
       "      <td>0.0</td>\n",
       "      <td>1.0</td>\n",
       "      <td>0.0</td>\n",
       "    </tr>\n",
       "    <tr>\n",
       "      <th>4</th>\n",
       "      <td>1.0</td>\n",
       "      <td>0.404908</td>\n",
       "      <td>0.392308</td>\n",
       "      <td>0.070796</td>\n",
       "      <td>0.072554</td>\n",
       "      <td>0.060148</td>\n",
       "      <td>0.051974</td>\n",
       "      <td>0.054726</td>\n",
       "      <td>1.0</td>\n",
       "      <td>0.0</td>\n",
       "      <td>0.0</td>\n",
       "    </tr>\n",
       "  </tbody>\n",
       "</table>\n",
       "</div>"
      ],
      "text/plain": [
       "   sex    length  diameter    height    weight  shuck_weight  visc_weight  \\\n",
       "0  0.0  0.558282  0.561538  0.084071  0.181915      0.150874     0.132895   \n",
       "1  0.0  0.429448  0.407692  0.079646  0.079809      0.066868     0.063816   \n",
       "2  0.5  0.650307  0.646154  0.119469  0.239604      0.172379     0.186184   \n",
       "3  0.0  0.539877  0.561538  0.110619  0.182623      0.144825     0.150000   \n",
       "4  1.0  0.404908  0.392308  0.070796  0.072554      0.060148     0.051974   \n",
       "\n",
       "   shell_weight  rings_0  rings_1  rings_2  \n",
       "0      0.149254      0.0      0.0      1.0  \n",
       "1      0.069652      1.0      0.0      0.0  \n",
       "2      0.208955      0.0      1.0      0.0  \n",
       "3      0.154229      0.0      1.0      0.0  \n",
       "4      0.054726      1.0      0.0      0.0  "
      ]
     },
     "execution_count": 7,
     "metadata": {},
     "output_type": "execute_result"
    }
   ],
   "source": [
    "processed_data = pd.concat([data, pd.get_dummies(data['rings'], prefix='rings').astype(float)], axis=1)\n",
    "processed_data = processed_data.drop('rings', axis=1)\n",
    "labels = ['rings_0', 'rings_1', 'rings_2']\n",
    "\n",
    "for x in features:\n",
    "    processed_data.loc[:, x] *= np.divide(1, data[x].max())\n",
    "\n",
    "processed_data.head()"
   ]
  },
  {
   "cell_type": "markdown",
   "metadata": {},
   "source": [
    "Split the data into a training and a testing set. The size of the testing set will be 10% of the total data."
   ]
  },
  {
   "cell_type": "code",
   "execution_count": 8,
   "metadata": {},
   "outputs": [],
   "source": [
    "sample = np.random.choice(processed_data.index, size=int(len(processed_data)*0.9), replace=False)\n",
    "traindata, testdata = processed_data.iloc[sample], processed_data.drop(sample)\n",
    "dimX, dimY = len(features), len(labels)"
   ]
  },
  {
   "cell_type": "markdown",
   "metadata": {},
   "source": [
    "# Categorical Classification"
   ]
  },
  {
   "cell_type": "code",
   "execution_count": 9,
   "metadata": {},
   "outputs": [
    {
     "data": {
      "text/plain": [
       "{1: [<mlp.linear at 0x7f73d5295e10>, <function mlp.relu(X)>, (8, 4)],\n",
       " 2: [<mlp.linear at 0x7f73d52956d8>, <function mlp.relu(X)>, (4, 4)],\n",
       " 3: [<mlp.linear at 0x7f73d52fbe48>, <function mlp.relu(X)>, (4, 4)],\n",
       " 4: [<mlp.linear at 0x7f73d52953c8>, <function mlp.softmax(X)>, (4, 3)]}"
      ]
     },
     "execution_count": 9,
     "metadata": {},
     "output_type": "execute_result"
    }
   ],
   "source": [
    "np.random.seed(123)\n",
    "model = network(dimX)\n",
    "model.addlinear(4, activation = 'relu')\n",
    "model.addlinear(4, activation = 'relu')\n",
    "model.addlinear(4, activation = 'relu')\n",
    "model.addlinear(dimY, activation = 'softmax')\n",
    "model.layers"
   ]
  },
  {
   "cell_type": "code",
   "execution_count": 10,
   "metadata": {},
   "outputs": [
    {
     "name": "stdout",
     "output_type": "stream",
     "text": [
      "Epoch: 0 \tTrain Loss: 0.443429 \tValid Loss: 0.397664\n",
      "Epoch: 1 \tTrain Loss: 0.356259 \tValid Loss: 0.351285\n",
      "Epoch: 2 \tTrain Loss: 0.341195 \tValid Loss: 0.340103\n",
      "Epoch: 3 \tTrain Loss: 0.337811 \tValid Loss: 0.332311\n",
      "Epoch: 4 \tTrain Loss: 0.336569 \tValid Loss: 0.344778\n",
      "Epoch: 5 \tTrain Loss: 0.335815 \tValid Loss: 0.306961\n",
      "Epoch: 6 \tTrain Loss: 0.337632 \tValid Loss: 0.319738\n",
      "Epoch: 7 \tTrain Loss: 0.336335 \tValid Loss: 0.312548\n",
      "Epoch: 8 \tTrain Loss: 0.337099 \tValid Loss: 0.336880\n",
      "Epoch: 9 \tTrain Loss: 0.336028 \tValid Loss: 0.301561\n"
     ]
    }
   ],
   "source": [
    "nepoch = 10\n",
    "printevery = 1\n",
    "\n",
    "trainbatch = datasampler(traindata, features, labels, batchsize = 100)\n",
    "testbatch = datasampler(testdata, features, labels, batchsize = 'all', shuffle = False)\n",
    "\n",
    "for e in range(0, nepoch):\n",
    "    epoch = trainbatch.nepoch\n",
    "    \n",
    "    while epoch == trainbatch.nepoch:\n",
    "        Xtrain, Ytrain = trainbatch.getbatch()\n",
    "    \n",
    "        for X, Y in zip(Xtrain, Ytrain):\n",
    "            model.forward(X, Y)\n",
    "        model.backprop(0.01)\n",
    "        \n",
    "    if e%printevery ==0:\n",
    "        trainloss = model.getloss()\n",
    "        \n",
    "        Xtest, Ytest = trainbatch.getbatch()\n",
    "        \n",
    "        for X, Y in zip(Xtest, Ytest):\n",
    "            model.forward(X, Y)\n",
    "        \n",
    "        testloss = model.getloss()\n",
    "        \n",
    "        print('Epoch: {} \\tTrain Loss: {:.6f} \\tValid Loss: {:.6f}'.format(\n",
    "            e, trainloss, testloss))\n",
    "    "
   ]
  },
  {
   "cell_type": "markdown",
   "metadata": {},
   "source": [
    "# PyTorch Comparison"
   ]
  },
  {
   "cell_type": "code",
   "execution_count": 11,
   "metadata": {},
   "outputs": [],
   "source": [
    "import torch\n",
    "import torch.nn.functional as F\n",
    "from torch import nn\n",
    "from torch import optim\n",
    "from collections import OrderedDict\n",
    "from torch.utils.data import DataLoader\n",
    "\n",
    "from dataloader import TabularDataset"
   ]
  },
  {
   "cell_type": "code",
   "execution_count": 12,
   "metadata": {},
   "outputs": [
    {
     "name": "stdout",
     "output_type": "stream",
     "text": [
      "Sequential(\n",
      "  (fc1): Linear(in_features=8, out_features=4, bias=True)\n",
      "  (relu1): ReLU()\n",
      "  (fc2): Linear(in_features=4, out_features=4, bias=True)\n",
      "  (relu2): ReLU()\n",
      "  (fc3): Linear(in_features=4, out_features=4, bias=True)\n",
      "  (output): Linear(in_features=4, out_features=3, bias=True)\n",
      ")\n"
     ]
    }
   ],
   "source": [
    "torchmodel = nn.Sequential(OrderedDict([('fc1', nn.Linear(dimX, 4)),\n",
    "                                        ('relu1', nn.ReLU()),\n",
    "                                        ('fc2', nn.Linear(4, 4)),\n",
    "                                        ('relu2', nn.ReLU()),\n",
    "                                        ('fc3', nn.Linear(4, 4)),\n",
    "                                        ('relu2', nn.ReLU()),\n",
    "                                        ('output', nn.Linear(4, dimY))]))\n",
    "# Define the loss\n",
    "\n",
    "criterion = nn.MultiLabelSoftMarginLoss()\n",
    "optimizer = optim.Adam(torchmodel.parameters(), lr=0.01)\n",
    "\n",
    "print(torchmodel)"
   ]
  },
  {
   "cell_type": "code",
   "execution_count": 13,
   "metadata": {},
   "outputs": [],
   "source": [
    "trainset = TabularDataset(data=traindata, features=features, labels=labels)\n",
    "testset = TabularDataset(data=testdata, features=features, labels=labels)"
   ]
  },
  {
   "cell_type": "code",
   "execution_count": 14,
   "metadata": {},
   "outputs": [],
   "source": [
    "trainloader = DataLoader(trainset, batch_size = 100, shuffle=True, num_workers=1)\n",
    "testloader = DataLoader(trainset, batch_size = len(testdata), shuffle=True, num_workers=1)"
   ]
  },
  {
   "cell_type": "code",
   "execution_count": 15,
   "metadata": {},
   "outputs": [
    {
     "name": "stdout",
     "output_type": "stream",
     "text": [
      "Epoch: 0 \tTrain Loss: 0.622946 \tValid Loss: 0.572334\n",
      "Epoch: 1 \tTrain Loss: 0.527577 \tValid Loss: 0.487497\n",
      "Epoch: 2 \tTrain Loss: 0.476885 \tValid Loss: 0.469415\n",
      "Epoch: 3 \tTrain Loss: 0.467857 \tValid Loss: 0.465814\n",
      "Epoch: 4 \tTrain Loss: 0.463832 \tValid Loss: 0.462868\n",
      "Epoch: 5 \tTrain Loss: 0.463530 \tValid Loss: 0.460457\n",
      "Epoch: 6 \tTrain Loss: 0.461450 \tValid Loss: 0.458639\n",
      "Epoch: 7 \tTrain Loss: 0.460601 \tValid Loss: 0.458282\n",
      "Epoch: 8 \tTrain Loss: 0.459368 \tValid Loss: 0.456520\n",
      "Epoch: 9 \tTrain Loss: 0.457052 \tValid Loss: 0.458840\n"
     ]
    }
   ],
   "source": [
    "epochs = 10\n",
    "batch_size = 100\n",
    "print_every = 1\n",
    "\n",
    "for e in range(epochs):\n",
    "    trainloss = 0.0\n",
    "    validloss = 0.0\n",
    "    \n",
    "    torchmodel.train()\n",
    "    for iX, iY in trainloader:\n",
    "        output = torchmodel.forward(iX)\n",
    "        loss = criterion(output, iY)\n",
    "        \n",
    "        optimizer.zero_grad()\n",
    "        loss.backward()\n",
    "        optimizer.step()\n",
    "        \n",
    "        trainloss += loss.item()*iX.size(0)\n",
    "        \n",
    "    torchmodel.eval();\n",
    "    with torch.no_grad():\n",
    "        for iX, iY in testloader:\n",
    "            output = torchmodel.forward(iX)\n",
    "            vloss = criterion(output, iY)\n",
    "            validloss += vloss.item()*iX.size(0)\n",
    "\n",
    "        trainloss = trainloss/len(trainloader.dataset)\n",
    "        validloss = validloss/len(testloader.dataset)\n",
    "\n",
    "        if e%print_every == 0:\n",
    "            print('Epoch: {} \\tTrain Loss: {:.6f} \\tValid Loss: {:.6f}'.format(\n",
    "                e, trainloss, validloss))\n",
    "pass;"
   ]
  },
  {
   "cell_type": "code",
   "execution_count": null,
   "metadata": {},
   "outputs": [],
   "source": []
  }
 ],
 "metadata": {
  "kernelspec": {
   "display_name": "Python 3",
   "language": "python",
   "name": "python3"
  },
  "language_info": {
   "codemirror_mode": {
    "name": "ipython",
    "version": 3
   },
   "file_extension": ".py",
   "mimetype": "text/x-python",
   "name": "python",
   "nbconvert_exporter": "python",
   "pygments_lexer": "ipython3",
   "version": "3.6.7"
  }
 },
 "nbformat": 4,
 "nbformat_minor": 2
}
