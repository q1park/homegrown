{
 "cells": [
  {
   "cell_type": "markdown",
   "metadata": {},
   "source": [
    "# Categorical NN Classifier"
   ]
  },
  {
   "cell_type": "code",
   "execution_count": 1,
   "metadata": {},
   "outputs": [],
   "source": [
    "%matplotlib inline\n",
    "from IPython.core.interactiveshell import InteractiveShell\n",
    "InteractiveShell.ast_node_interactivity = \"all\"\n",
    "\n",
    "import os\n",
    "import random\n",
    "import subprocess\n",
    "import timeit\n",
    "import numpy as np\n",
    "import scipy as sp\n",
    "import sympy as sy\n",
    "import pandas as pd\n",
    "import itertools\n",
    "import matplotlib.pyplot as plt\n",
    "\n",
    "# Functions for sparse matrices\n",
    "from functools import reduce\n",
    "from scipy.sparse import csc_matrix, dok_matrix, kron\n",
    "\n",
    "# Functions to play animations\n",
    "from matplotlib import animation\n",
    "from IPython.display import display"
   ]
  },
  {
   "cell_type": "markdown",
   "metadata": {},
   "source": [
    "## Data Loading and Visualization\n",
    "\n",
    "Data Source: http://www.ats.ucla.edu/"
   ]
  },
  {
   "cell_type": "markdown",
   "metadata": {},
   "source": [
    "Load data"
   ]
  },
  {
   "cell_type": "code",
   "execution_count": 2,
   "metadata": {},
   "outputs": [
    {
     "data": {
      "text/html": [
       "<div>\n",
       "<style scoped>\n",
       "    .dataframe tbody tr th:only-of-type {\n",
       "        vertical-align: middle;\n",
       "    }\n",
       "\n",
       "    .dataframe tbody tr th {\n",
       "        vertical-align: top;\n",
       "    }\n",
       "\n",
       "    .dataframe thead th {\n",
       "        text-align: right;\n",
       "    }\n",
       "</style>\n",
       "<table border=\"1\" class=\"dataframe\">\n",
       "  <thead>\n",
       "    <tr style=\"text-align: right;\">\n",
       "      <th></th>\n",
       "      <th>admit</th>\n",
       "      <th>gre</th>\n",
       "      <th>gpa</th>\n",
       "      <th>rank</th>\n",
       "    </tr>\n",
       "  </thead>\n",
       "  <tbody>\n",
       "    <tr>\n",
       "      <th>0</th>\n",
       "      <td>0</td>\n",
       "      <td>380</td>\n",
       "      <td>3.61</td>\n",
       "      <td>3</td>\n",
       "    </tr>\n",
       "    <tr>\n",
       "      <th>1</th>\n",
       "      <td>1</td>\n",
       "      <td>660</td>\n",
       "      <td>3.67</td>\n",
       "      <td>3</td>\n",
       "    </tr>\n",
       "    <tr>\n",
       "      <th>2</th>\n",
       "      <td>1</td>\n",
       "      <td>800</td>\n",
       "      <td>4.00</td>\n",
       "      <td>1</td>\n",
       "    </tr>\n",
       "    <tr>\n",
       "      <th>3</th>\n",
       "      <td>1</td>\n",
       "      <td>640</td>\n",
       "      <td>3.19</td>\n",
       "      <td>4</td>\n",
       "    </tr>\n",
       "    <tr>\n",
       "      <th>4</th>\n",
       "      <td>0</td>\n",
       "      <td>520</td>\n",
       "      <td>2.93</td>\n",
       "      <td>4</td>\n",
       "    </tr>\n",
       "  </tbody>\n",
       "</table>\n",
       "</div>"
      ],
      "text/plain": [
       "   admit  gre   gpa  rank\n",
       "0      0  380  3.61     3\n",
       "1      1  660  3.67     3\n",
       "2      1  800  4.00     1\n",
       "3      1  640  3.19     4\n",
       "4      0  520  2.93     4"
      ]
     },
     "execution_count": 2,
     "metadata": {},
     "output_type": "execute_result"
    }
   ],
   "source": [
    "data = pd.read_csv('student_data.csv')\n",
    "data.head()"
   ]
  },
  {
   "cell_type": "markdown",
   "metadata": {},
   "source": [
    "Plot data"
   ]
  },
  {
   "cell_type": "code",
   "execution_count": 3,
   "metadata": {},
   "outputs": [],
   "source": [
    "def scatter(data, xaxis, yaxis):\n",
    "    X = np.array(data[[xaxis, yaxis]])\n",
    "    Y = np.array(data[\"admit\"])\n",
    "    admitted = X[np.argwhere(Y==1)]\n",
    "    rejected = X[np.argwhere(Y==0)]\n",
    "    plt.scatter([s[0][0] for s in rejected], [s[0][1] for s in rejected], s = 25, color = 'red', edgecolor = 'k')\n",
    "    plt.scatter([s[0][0] for s in admitted], [s[0][1] for s in admitted], s = 25, color = 'cyan', edgecolor = 'k')\n",
    "    plt.xlabel(xaxis)\n",
    "    plt.ylabel(yaxis)"
   ]
  },
  {
   "cell_type": "code",
   "execution_count": 4,
   "metadata": {},
   "outputs": [
    {
     "data": {
      "image/png": "[encoded data removed]",
      "text/plain": [
       "<Figure size 432x288 with 1 Axes>"
      ]
     },
     "metadata": {
      "needs_background": "light"
     },
     "output_type": "display_data"
    }
   ],
   "source": [
    "scatter(data[data[\"gpa\"] > 2.5], xaxis = \"gre\", yaxis = \"rank\")\n",
    "plt.show()"
   ]
  },
  {
   "cell_type": "code",
   "execution_count": 5,
   "metadata": {},
   "outputs": [
    {
     "data": {
      "image/png": "[encoded data removed]",
      "text/plain": [
       "<Figure size 432x288 with 1 Axes>"
      ]
     },
     "metadata": {
      "needs_background": "light"
     },
     "output_type": "display_data"
    }
   ],
   "source": [
    "scatter(data[data[\"rank\"] == 1], xaxis = \"gre\", yaxis = \"gpa\")\n",
    "plt.show()"
   ]
  },
  {
   "cell_type": "markdown",
   "metadata": {},
   "source": [
    "## Pre-Processing"
   ]
  },
  {
   "cell_type": "markdown",
   "metadata": {},
   "source": [
    "To demonstrate multi-category classifcation, we one-hot encode the admission variable\n",
    "\n",
    "Then normalize the input variables to be in the range (0, 1)"
   ]
  },
  {
   "cell_type": "code",
   "execution_count": 6,
   "metadata": {},
   "outputs": [
    {
     "data": {
      "text/html": [
       "<div>\n",
       "<style scoped>\n",
       "    .dataframe tbody tr th:only-of-type {\n",
       "        vertical-align: middle;\n",
       "    }\n",
       "\n",
       "    .dataframe tbody tr th {\n",
       "        vertical-align: top;\n",
       "    }\n",
       "\n",
       "    .dataframe thead th {\n",
       "        text-align: right;\n",
       "    }\n",
       "</style>\n",
       "<table border=\"1\" class=\"dataframe\">\n",
       "  <thead>\n",
       "    <tr style=\"text-align: right;\">\n",
       "      <th></th>\n",
       "      <th>gre</th>\n",
       "      <th>gpa</th>\n",
       "      <th>rank</th>\n",
       "      <th>admit_0</th>\n",
       "      <th>admit_1</th>\n",
       "    </tr>\n",
       "  </thead>\n",
       "  <tbody>\n",
       "    <tr>\n",
       "      <th>0</th>\n",
       "      <td>0.475</td>\n",
       "      <td>0.9025</td>\n",
       "      <td>0.75</td>\n",
       "      <td>1</td>\n",
       "      <td>0</td>\n",
       "    </tr>\n",
       "    <tr>\n",
       "      <th>1</th>\n",
       "      <td>0.825</td>\n",
       "      <td>0.9175</td>\n",
       "      <td>0.75</td>\n",
       "      <td>0</td>\n",
       "      <td>1</td>\n",
       "    </tr>\n",
       "    <tr>\n",
       "      <th>2</th>\n",
       "      <td>1.000</td>\n",
       "      <td>1.0000</td>\n",
       "      <td>0.25</td>\n",
       "      <td>0</td>\n",
       "      <td>1</td>\n",
       "    </tr>\n",
       "    <tr>\n",
       "      <th>3</th>\n",
       "      <td>0.800</td>\n",
       "      <td>0.7975</td>\n",
       "      <td>1.00</td>\n",
       "      <td>0</td>\n",
       "      <td>1</td>\n",
       "    </tr>\n",
       "    <tr>\n",
       "      <th>4</th>\n",
       "      <td>0.650</td>\n",
       "      <td>0.7325</td>\n",
       "      <td>1.00</td>\n",
       "      <td>1</td>\n",
       "      <td>0</td>\n",
       "    </tr>\n",
       "  </tbody>\n",
       "</table>\n",
       "</div>"
      ],
      "text/plain": [
       "     gre     gpa  rank  admit_0  admit_1\n",
       "0  0.475  0.9025  0.75        1        0\n",
       "1  0.825  0.9175  0.75        0        1\n",
       "2  1.000  1.0000  0.25        0        1\n",
       "3  0.800  0.7975  1.00        0        1\n",
       "4  0.650  0.7325  1.00        1        0"
      ]
     },
     "execution_count": 6,
     "metadata": {},
     "output_type": "execute_result"
    }
   ],
   "source": [
    "processed_data = pd.concat([data, pd.get_dummies(data['admit'], prefix='admit')], axis=1)\n",
    "processed_data = processed_data.drop('admit', axis=1)\n",
    "\n",
    "processed_data.loc[:,'gpa'] *= np.divide(1, 4.)\n",
    "processed_data.loc[:,'rank'] *= np.divide(1, 4.)\n",
    "processed_data.loc[:,'gre'] *= np.divide(1, 800.)\n",
    "\n",
    "processed_data.head()"
   ]
  },
  {
   "cell_type": "markdown",
   "metadata": {},
   "source": [
    "Split the data into a training and a testing set. The size of the testing set will be 10% of the total data."
   ]
  },
  {
   "cell_type": "code",
   "execution_count": 7,
   "metadata": {},
   "outputs": [],
   "source": [
    "sample = np.random.choice(processed_data.index, size=int(len(processed_data)*0.9), replace=False)\n",
    "train_data, test_data = processed_data.iloc[sample], processed_data.drop(sample)"
   ]
  },
  {
   "cell_type": "code",
   "execution_count": 8,
   "metadata": {},
   "outputs": [
    {
     "data": {
      "text/html": [
       "<div>\n",
       "<style scoped>\n",
       "    .dataframe tbody tr th:only-of-type {\n",
       "        vertical-align: middle;\n",
       "    }\n",
       "\n",
       "    .dataframe tbody tr th {\n",
       "        vertical-align: top;\n",
       "    }\n",
       "\n",
       "    .dataframe thead th {\n",
       "        text-align: right;\n",
       "    }\n",
       "</style>\n",
       "<table border=\"1\" class=\"dataframe\">\n",
       "  <thead>\n",
       "    <tr style=\"text-align: right;\">\n",
       "      <th></th>\n",
       "      <th>gre</th>\n",
       "      <th>gpa</th>\n",
       "      <th>rank</th>\n",
       "      <th>admit_0</th>\n",
       "      <th>admit_1</th>\n",
       "    </tr>\n",
       "  </thead>\n",
       "  <tbody>\n",
       "    <tr>\n",
       "      <th>386</th>\n",
       "      <td>0.925</td>\n",
       "      <td>0.9650</td>\n",
       "      <td>0.50</td>\n",
       "      <td>0</td>\n",
       "      <td>1</td>\n",
       "    </tr>\n",
       "    <tr>\n",
       "      <th>292</th>\n",
       "      <td>0.850</td>\n",
       "      <td>0.9250</td>\n",
       "      <td>0.50</td>\n",
       "      <td>1</td>\n",
       "      <td>0</td>\n",
       "    </tr>\n",
       "    <tr>\n",
       "      <th>235</th>\n",
       "      <td>0.775</td>\n",
       "      <td>0.7625</td>\n",
       "      <td>0.50</td>\n",
       "      <td>1</td>\n",
       "      <td>0</td>\n",
       "    </tr>\n",
       "    <tr>\n",
       "      <th>243</th>\n",
       "      <td>0.775</td>\n",
       "      <td>0.8050</td>\n",
       "      <td>0.50</td>\n",
       "      <td>1</td>\n",
       "      <td>0</td>\n",
       "    </tr>\n",
       "    <tr>\n",
       "      <th>149</th>\n",
       "      <td>0.925</td>\n",
       "      <td>0.8275</td>\n",
       "      <td>0.25</td>\n",
       "      <td>1</td>\n",
       "      <td>0</td>\n",
       "    </tr>\n",
       "  </tbody>\n",
       "</table>\n",
       "</div>"
      ],
      "text/plain": [
       "       gre     gpa  rank  admit_0  admit_1\n",
       "386  0.925  0.9650  0.50        0        1\n",
       "292  0.850  0.9250  0.50        1        0\n",
       "235  0.775  0.7625  0.50        1        0\n",
       "243  0.775  0.8050  0.50        1        0\n",
       "149  0.925  0.8275  0.25        1        0"
      ]
     },
     "execution_count": 8,
     "metadata": {},
     "output_type": "execute_result"
    },
    {
     "data": {
      "text/html": [
       "<div>\n",
       "<style scoped>\n",
       "    .dataframe tbody tr th:only-of-type {\n",
       "        vertical-align: middle;\n",
       "    }\n",
       "\n",
       "    .dataframe tbody tr th {\n",
       "        vertical-align: top;\n",
       "    }\n",
       "\n",
       "    .dataframe thead th {\n",
       "        text-align: right;\n",
       "    }\n",
       "</style>\n",
       "<table border=\"1\" class=\"dataframe\">\n",
       "  <thead>\n",
       "    <tr style=\"text-align: right;\">\n",
       "      <th></th>\n",
       "      <th>gre</th>\n",
       "      <th>gpa</th>\n",
       "      <th>rank</th>\n",
       "      <th>admit_0</th>\n",
       "      <th>admit_1</th>\n",
       "    </tr>\n",
       "  </thead>\n",
       "  <tbody>\n",
       "    <tr>\n",
       "      <th>6</th>\n",
       "      <td>0.700</td>\n",
       "      <td>0.7450</td>\n",
       "      <td>0.25</td>\n",
       "      <td>0</td>\n",
       "      <td>1</td>\n",
       "    </tr>\n",
       "    <tr>\n",
       "      <th>9</th>\n",
       "      <td>0.875</td>\n",
       "      <td>0.9800</td>\n",
       "      <td>0.50</td>\n",
       "      <td>1</td>\n",
       "      <td>0</td>\n",
       "    </tr>\n",
       "    <tr>\n",
       "      <th>12</th>\n",
       "      <td>0.950</td>\n",
       "      <td>1.0000</td>\n",
       "      <td>0.25</td>\n",
       "      <td>0</td>\n",
       "      <td>1</td>\n",
       "    </tr>\n",
       "    <tr>\n",
       "      <th>18</th>\n",
       "      <td>1.000</td>\n",
       "      <td>0.9375</td>\n",
       "      <td>0.50</td>\n",
       "      <td>1</td>\n",
       "      <td>0</td>\n",
       "    </tr>\n",
       "    <tr>\n",
       "      <th>30</th>\n",
       "      <td>0.675</td>\n",
       "      <td>0.9450</td>\n",
       "      <td>1.00</td>\n",
       "      <td>1</td>\n",
       "      <td>0</td>\n",
       "    </tr>\n",
       "  </tbody>\n",
       "</table>\n",
       "</div>"
      ],
      "text/plain": [
       "      gre     gpa  rank  admit_0  admit_1\n",
       "6   0.700  0.7450  0.25        0        1\n",
       "9   0.875  0.9800  0.50        1        0\n",
       "12  0.950  1.0000  0.25        0        1\n",
       "18  1.000  0.9375  0.50        1        0\n",
       "30  0.675  0.9450  1.00        1        0"
      ]
     },
     "execution_count": 8,
     "metadata": {},
     "output_type": "execute_result"
    }
   ],
   "source": [
    "train_data.head()\n",
    "test_data.head()"
   ]
  },
  {
   "cell_type": "code",
   "execution_count": 9,
   "metadata": {
    "scrolled": true
   },
   "outputs": [],
   "source": [
    "X, Y = train_data[train_data.columns[0:3]], train_data[train_data.columns[3:5]]\n",
    "X_test, Y_test = test_data[train_data.columns[0:3]], test_data[train_data.columns[3:5]]"
   ]
  },
  {
   "cell_type": "code",
   "execution_count": 10,
   "metadata": {},
   "outputs": [
    {
     "data": {
      "text/html": [
       "<div>\n",
       "<style scoped>\n",
       "    .dataframe tbody tr th:only-of-type {\n",
       "        vertical-align: middle;\n",
       "    }\n",
       "\n",
       "    .dataframe tbody tr th {\n",
       "        vertical-align: top;\n",
       "    }\n",
       "\n",
       "    .dataframe thead th {\n",
       "        text-align: right;\n",
       "    }\n",
       "</style>\n",
       "<table border=\"1\" class=\"dataframe\">\n",
       "  <thead>\n",
       "    <tr style=\"text-align: right;\">\n",
       "      <th></th>\n",
       "      <th>gre</th>\n",
       "      <th>gpa</th>\n",
       "      <th>rank</th>\n",
       "    </tr>\n",
       "  </thead>\n",
       "  <tbody>\n",
       "    <tr>\n",
       "      <th>386</th>\n",
       "      <td>0.925</td>\n",
       "      <td>0.9650</td>\n",
       "      <td>0.50</td>\n",
       "    </tr>\n",
       "    <tr>\n",
       "      <th>292</th>\n",
       "      <td>0.850</td>\n",
       "      <td>0.9250</td>\n",
       "      <td>0.50</td>\n",
       "    </tr>\n",
       "    <tr>\n",
       "      <th>235</th>\n",
       "      <td>0.775</td>\n",
       "      <td>0.7625</td>\n",
       "      <td>0.50</td>\n",
       "    </tr>\n",
       "    <tr>\n",
       "      <th>243</th>\n",
       "      <td>0.775</td>\n",
       "      <td>0.8050</td>\n",
       "      <td>0.50</td>\n",
       "    </tr>\n",
       "    <tr>\n",
       "      <th>149</th>\n",
       "      <td>0.925</td>\n",
       "      <td>0.8275</td>\n",
       "      <td>0.25</td>\n",
       "    </tr>\n",
       "  </tbody>\n",
       "</table>\n",
       "</div>"
      ],
      "text/plain": [
       "       gre     gpa  rank\n",
       "386  0.925  0.9650  0.50\n",
       "292  0.850  0.9250  0.50\n",
       "235  0.775  0.7625  0.50\n",
       "243  0.775  0.8050  0.50\n",
       "149  0.925  0.8275  0.25"
      ]
     },
     "execution_count": 10,
     "metadata": {},
     "output_type": "execute_result"
    },
    {
     "data": {
      "text/html": [
       "<div>\n",
       "<style scoped>\n",
       "    .dataframe tbody tr th:only-of-type {\n",
       "        vertical-align: middle;\n",
       "    }\n",
       "\n",
       "    .dataframe tbody tr th {\n",
       "        vertical-align: top;\n",
       "    }\n",
       "\n",
       "    .dataframe thead th {\n",
       "        text-align: right;\n",
       "    }\n",
       "</style>\n",
       "<table border=\"1\" class=\"dataframe\">\n",
       "  <thead>\n",
       "    <tr style=\"text-align: right;\">\n",
       "      <th></th>\n",
       "      <th>admit_0</th>\n",
       "      <th>admit_1</th>\n",
       "    </tr>\n",
       "  </thead>\n",
       "  <tbody>\n",
       "    <tr>\n",
       "      <th>386</th>\n",
       "      <td>0</td>\n",
       "      <td>1</td>\n",
       "    </tr>\n",
       "    <tr>\n",
       "      <th>292</th>\n",
       "      <td>1</td>\n",
       "      <td>0</td>\n",
       "    </tr>\n",
       "    <tr>\n",
       "      <th>235</th>\n",
       "      <td>1</td>\n",
       "      <td>0</td>\n",
       "    </tr>\n",
       "    <tr>\n",
       "      <th>243</th>\n",
       "      <td>1</td>\n",
       "      <td>0</td>\n",
       "    </tr>\n",
       "    <tr>\n",
       "      <th>149</th>\n",
       "      <td>1</td>\n",
       "      <td>0</td>\n",
       "    </tr>\n",
       "  </tbody>\n",
       "</table>\n",
       "</div>"
      ],
      "text/plain": [
       "     admit_0  admit_1\n",
       "386        0        1\n",
       "292        1        0\n",
       "235        1        0\n",
       "243        1        0\n",
       "149        1        0"
      ]
     },
     "execution_count": 10,
     "metadata": {},
     "output_type": "execute_result"
    }
   ],
   "source": [
    "X.head()\n",
    "Y.head()"
   ]
  },
  {
   "cell_type": "markdown",
   "metadata": {},
   "source": [
    "# Define Network"
   ]
  },
  {
   "cell_type": "markdown",
   "metadata": {},
   "source": [
    "### Define Functions"
   ]
  },
  {
   "cell_type": "markdown",
   "metadata": {},
   "source": [
    "Activation functions"
   ]
  },
  {
   "cell_type": "code",
   "execution_count": 11,
   "metadata": {},
   "outputs": [],
   "source": [
    "def identity(X):\n",
    "    return X\n",
    "\n",
    "def sigmoid(X):\n",
    "    return 1 / (1 + np.exp(-np.array(X)))\n",
    "\n",
    "def relu(X):\n",
    "    if type(X) == np.ndarray:\n",
    "        return np.array([val if val>0 else 0.001 for val in X])\n",
    "    else:\n",
    "        if X>0:\n",
    "            return X\n",
    "        else:\n",
    "            return 0.001\n",
    "\n",
    "def softmax(X):\n",
    "    exps = np.exp(X - np.max(X))\n",
    "    return exps / np.sum(exps)\n",
    "\n",
    "fdict={'identity':identity,\n",
    "       'relu':relu,\n",
    "       'sigmoid':sigmoid,\n",
    "       'softmax':softmax}"
   ]
  },
  {
   "cell_type": "markdown",
   "metadata": {},
   "source": [
    "Derivative functions"
   ]
  },
  {
   "cell_type": "code",
   "execution_count": 12,
   "metadata": {},
   "outputs": [],
   "source": [
    "def dsigmoid(X):\n",
    "    return sigmoid(X) * (1 - sigmoid(X))\n",
    "\n",
    "def drelu(X):\n",
    "    if type(X) == np.ndarray:\n",
    "        return np.array([1 if val>0 else 0 for val in X])\n",
    "    else:\n",
    "        if X>0:\n",
    "            return 1\n",
    "        else:\n",
    "            return 0\n",
    "\n",
    "def dsoftmax(X):\n",
    "    dsoft = np.empty((len(X), len(X)) )\n",
    "    \n",
    "    for i in range(len(X)):\n",
    "        for j in range(len(X)):\n",
    "            if i==j:\n",
    "                dsoft[i][j] = softmax(X)[i]*(1 - softmax(X)[j])\n",
    "            else:\n",
    "                dsoft[i][j] = softmax(X)[i]*softmax(X)[j]\n",
    "    return dsoft\n",
    "\n",
    "dfdict={'identity':identity,\n",
    "        'relu':drelu,\n",
    "        'sigmoid':dsigmoid,\n",
    "        'softmax':dsoftmax}"
   ]
  },
  {
   "cell_type": "markdown",
   "metadata": {},
   "source": [
    "Error functions"
   ]
  },
  {
   "cell_type": "code",
   "execution_count": 13,
   "metadata": {},
   "outputs": [],
   "source": [
    "def binary_crossentropy(y, output):\n",
    "    error = -(1/len(y) )*(np.dot(y, np.log(output) ) + np.dot(1 - y, np.log(1 - output) ) )\n",
    "    derror = -(1/len(y) )*(np.divide(y, output) - np.divide(1 - y, 1 - output) )\n",
    "    return error, derror"
   ]
  },
  {
   "cell_type": "code",
   "execution_count": 14,
   "metadata": {},
   "outputs": [],
   "source": [
    "np.random.seed(1234)\n",
    "\n",
    "class network:\n",
    "    def __init__(self, structure):\n",
    "        self.Nnodes = [structure[i][1] for i in range(len(structure))]\n",
    "        self.funcs = [fdict.get(struct[i][0]) for i in range(len(struct))]\n",
    "        self.dfuncs = [dfdict.get(struct[i][0]) for i in range(len(struct))]\n",
    "        self.runningloss = 0.0\n",
    "        self.Nruns = 0\n",
    "        \n",
    "        self.weights = []\n",
    "        weight = np.identity(self.Nnodes[0])\n",
    "        bias = np.zeros((self.Nnodes[0], 1) )\n",
    "        self.weights.append(np.concatenate((weight, bias), axis=1) )\n",
    "        \n",
    "        for i in range(1, len(self.Nnodes) ):\n",
    "            weight = np.random.normal(scale=1 / self.Nnodes[i]**.5, \\\n",
    "                                      size=(self.Nnodes[i], self.Nnodes[i - 1]))\n",
    "            bias = np.random.normal(scale=1 / self.Nnodes[i]**.5, \\\n",
    "                                    size=(self.Nnodes[i], 1))\n",
    "#             weight = np.random.randn(self.Nnodes[i], self.Nnodes[i - 1])\n",
    "#             bias = np.random.randn(self.Nnodes[i], 1)\n",
    "            self.weights.append( np.concatenate((weight, bias), axis=1) )\n",
    "            \n",
    "        self.dweights = []\n",
    "        for iweight in self.weights:\n",
    "            self.dweights.append(np.zeros(iweight.shape) )\n",
    "            \n",
    "    def run(self, iX, iY, learnrate):\n",
    "        inputs, outputs = [], []\n",
    "        outlayer = iX\n",
    "        \n",
    "        for i in range(len(self.funcs) ):\n",
    "            inlayer = np.dot(self.weights[i], np.append(outlayer, 1))\n",
    "            outlayer = self.funcs[i](inlayer)\n",
    "            inputs.append(inlayer)\n",
    "            outputs.append(outlayer)\n",
    "            \n",
    "        loss, dloss = binary_crossentropy(iY, outputs[-1])\n",
    "\n",
    "        dchain = np.sum(dloss*self.dfuncs[-1]( inputs[-1] ), axis = 0)\n",
    "        dchain = dchain.reshape(len(dchain), 1)\n",
    "\n",
    "        for i in reversed(range(len(self.dfuncs) - 1) ):\n",
    "            dweight = learnrate*np.outer(dchain, outputs[i] )\n",
    "            dbias = learnrate*dchain\n",
    "            wgrad = np.concatenate((dweight, dbias), axis = 1) \n",
    "            self.dweights[i + 1] += wgrad\n",
    "            \n",
    "            dchain = np.sum(dchain*self.weights[i + 1][:,:-1], axis = 0)*self.dfuncs[i](inputs[i])\n",
    "            dchain = dchain.reshape(len(dchain),1)\n",
    "\n",
    "#         print(inputs[-1])\n",
    "#         print(outputs[-1])\n",
    "#         print(loss)\n",
    "        self.runningloss += loss\n",
    "        self.Nruns += 1\n",
    "        \n",
    "    def update(self, batchsize = 1):\n",
    "        for i, idweight in enumerate(self.dweights):\n",
    "            self.weights[i] = self.weights[i] - (1/batchsize)*idweight\n",
    "            \n",
    "        self.dweights.clear()\n",
    "        \n",
    "        for iweight in self.weights:\n",
    "            self.dweights.append(np.zeros(iweight.shape) )\n",
    "            \n",
    "    def printloss(self):\n",
    "        avgloss = self.runningloss/self.Nruns\n",
    "        self.runningloss = 0.0\n",
    "        self.Nruns = 0\n",
    "        print(\"loss: \", avgloss)\n",
    "        \n",
    "    def evaluate(self, testX, testY):\n",
    "        testloss = 0.0\n",
    "        pos = []\n",
    "        neg = []\n",
    "      \n",
    "        for iX, iY in zip(testX.values, testY.values):\n",
    "            outlayer = iX\n",
    "            \n",
    "            for i, iweight in enumerate(self.weights):\n",
    "                inlayer = np.dot(iweight, np.append(outlayer, 1))\n",
    "                outlayer = self.funcs[i](inlayer)\n",
    "\n",
    "            if int(iY[1]) - int(iY[0]) > 0:\n",
    "                pos.append(outlayer[1] - outlayer[0])\n",
    "            else:\n",
    "                neg.append(outlayer[1] - outlayer[0])\n",
    "                \n",
    "            loss, dloss = binary_crossentropy(iY, outlayer)\n",
    "            testloss += loss\n",
    "        testloss = testloss/len(testX)\n",
    "        \n",
    "        print(\"test loss: \", testloss)\n",
    "        \n",
    "        bins = np.linspace(-1, 1, 30)\n",
    "        print(len(pos), len(neg))\n",
    "\n",
    "        plt.hist(np.array(pos), bins, alpha=0.5, label='admitted')\n",
    "        plt.hist(np.array(neg), bins, alpha=0.5, label='rejected')\n",
    "        plt.legend(loc='upper right')\n",
    "        plt.show()\n",
    "        \n",
    "    def checkone(self, iX, iY):\n",
    "        outlayer = iX\n",
    "\n",
    "        for i, iweight in enumerate(self.weights):\n",
    "            inlayer = np.dot(iweight, np.append(outlayer, 1))\n",
    "            outlayer = self.funcs[i](inlayer)\n",
    "            print(\"in\", np.around(inlayer, 3) )\n",
    "            print(\"out\", np.around(outlayer, 3) )\n",
    "        "
   ]
  },
  {
   "cell_type": "code",
   "execution_count": 15,
   "metadata": {},
   "outputs": [],
   "source": [
    "NX, dimX = X.shape\n",
    "NY, dimY = Y.shape\n",
    "\n",
    "struct = [['identity', 3],\n",
    "          ['relu', 10],\n",
    "          ['relu', 10],\n",
    "          ['relu', 10],\n",
    "          ['softmax', 2]]\n",
    "\n",
    "model = network(struct)"
   ]
  },
  {
   "cell_type": "code",
   "execution_count": 16,
   "metadata": {},
   "outputs": [
    {
     "name": "stdout",
     "output_type": "stream",
     "text": [
      "loss:  1.2527544027216102\n",
      "loss:  0.6043840571559851\n",
      "loss:  0.604700192939704\n",
      "loss:  0.6065684651286417\n",
      "loss:  0.6001015038469333\n",
      "loss:  0.5924669999443721\n",
      "loss:  0.5873707376981594\n",
      "loss:  0.5979526443814892\n",
      "loss:  0.5905590619501553\n",
      "loss:  0.5880117147946955\n",
      "loss:  0.5799285883567967\n",
      "loss:  0.5844746038256035\n",
      "loss:  0.5887581646789343\n",
      "loss:  0.5837110790405581\n",
      "loss:  0.5761324075291144\n",
      "loss:  0.5734721191545061\n",
      "loss:  0.5881449827358507\n",
      "loss:  0.5813570288680554\n",
      "loss:  0.5779789028472081\n",
      "loss:  0.5715679955140532\n",
      "loss:  0.5786866824654883\n",
      "loss:  0.5842153417508227\n",
      "loss:  0.5792280482754877\n",
      "loss:  0.5713338795078481\n",
      "loss:  0.5698416972888505\n",
      "loss:  0.5862420298259241\n",
      "loss:  0.579268068743395\n",
      "loss:  0.575277980599392\n",
      "loss:  0.5693390407914745\n",
      "loss:  0.5774378589100189\n",
      "loss:  0.5830684549984845\n",
      "loss:  0.5778299707699185\n",
      "loss:  0.5695894559350497\n",
      "loss:  0.5684816088401176\n",
      "loss:  0.5851905727403733\n",
      "loss:  0.5780327563308773\n"
     ]
    }
   ],
   "source": [
    "# Neural Network hyperparameters\n",
    "epochs = 100\n",
    "learnrate = 0.01\n",
    "batchsize = 10\n",
    "printevery = 1000\n",
    "\n",
    "counter = 0\n",
    "for e in range(epochs):\n",
    "    \n",
    "    for iX, iY in zip(X.values, Y.values):\n",
    "        model.run(iX, iY, learnrate)\n",
    "#         model.run(X.values[0], Y.values[0], learnrate)\n",
    "\n",
    "        if counter%printevery == 0:\n",
    "            model.printloss()\n",
    "            \n",
    "        if counter%batchsize == 0:\n",
    "            model.update(batchsize)\n",
    "            \n",
    "        counter += 1"
   ]
  },
  {
   "cell_type": "code",
   "execution_count": 17,
   "metadata": {},
   "outputs": [
    {
     "name": "stdout",
     "output_type": "stream",
     "text": [
      "test loss:  0.5762016518784694\n",
      "111 249\n"
     ]
    },
    {
     "data": {
      "image/png": "[encoded data removed]",
      "text/plain": [
       "<Figure size 432x288 with 1 Axes>"
      ]
     },
     "metadata": {
      "needs_background": "light"
     },
     "output_type": "display_data"
    }
   ],
   "source": [
    "model.evaluate(X, Y)"
   ]
  },
  {
   "cell_type": "markdown",
   "metadata": {},
   "source": [
    "## Calculating the Accuracy on the Test Data"
   ]
  },
  {
   "cell_type": "code",
   "execution_count": 18,
   "metadata": {},
   "outputs": [],
   "source": [
    "# Calculate accuracy on test data\n",
    "# test_out = sigmoid(np.dot(admitX_test, weights))\n",
    "# predictions = test_out > 0.5\n",
    "# accuracy = np.mean(predictions == admitY_test)\n",
    "# print(\"Prediction accuracy: {:.3f}\".format(accuracy))"
   ]
  },
  {
   "cell_type": "code",
   "execution_count": 19,
   "metadata": {},
   "outputs": [],
   "source": [
    "import torch\n",
    "import torch.nn.functional as F\n",
    "from torch import nn\n",
    "from torch import optim\n",
    "from collections import OrderedDict\n",
    "from torch.utils.data import SubsetRandomSampler\n",
    "\n",
    "torch.set_default_dtype(torch.float64)"
   ]
  },
  {
   "cell_type": "code",
   "execution_count": 20,
   "metadata": {},
   "outputs": [],
   "source": [
    "tX = torch.from_numpy(X.values)\n",
    "tY = torch.from_numpy(Y.values)\n",
    "tX_test = torch.from_numpy(X_test.values)\n",
    "tY_test = torch.from_numpy(Y_test.values)\n",
    "\n",
    "# Build a feed-forward network\n",
    "torchmodel = nn.Sequential(OrderedDict([('fc1', nn.Linear(dimX, 10)),\n",
    "                                        ('relu1', nn.ReLU()),\n",
    "                                        ('fc2', nn.Linear(10, 10)),\n",
    "                                        ('relu2', nn.ReLU()),\n",
    "                                        ('output', nn.Linear(10, dimY)),\n",
    "                                        ('softmax', nn.Softmax(dim=1))]))\n",
    "# Define the loss\n",
    "criterion = nn.BCELoss()\n",
    "optimizer = optim.SGD(torchmodel.parameters(), lr=0.003)\n",
    "\n",
    "#print(torchmodel)"
   ]
  },
  {
   "cell_type": "code",
   "execution_count": 21,
   "metadata": {},
   "outputs": [
    {
     "data": {
      "text/plain": [
       "Sequential(\n",
       "  (fc1): Linear(in_features=3, out_features=10, bias=True)\n",
       "  (relu1): ReLU()\n",
       "  (fc2): Linear(in_features=10, out_features=10, bias=True)\n",
       "  (relu2): ReLU()\n",
       "  (output): Linear(in_features=10, out_features=2, bias=True)\n",
       "  (softmax): Softmax()\n",
       ")"
      ]
     },
     "execution_count": 21,
     "metadata": {},
     "output_type": "execute_result"
    },
    {
     "name": "stdout",
     "output_type": "stream",
     "text": [
      "Epoch: 1/100..  Training Loss: 0.641..  Test Loss: 0.668..  Test Accuracy: 0.400\n",
      "Epoch: 11/100..  Training Loss: 0.613..  Test Loss: 0.665..  Test Accuracy: 0.400\n",
      "Epoch: 21/100..  Training Loss: 0.605..  Test Loss: 0.650..  Test Accuracy: 0.400\n",
      "Epoch: 31/100..  Training Loss: 0.596..  Test Loss: 0.632..  Test Accuracy: 0.400\n",
      "Epoch: 41/100..  Training Loss: 0.590..  Test Loss: 0.618..  Test Accuracy: 0.400\n",
      "Epoch: 51/100..  Training Loss: 0.587..  Test Loss: 0.610..  Test Accuracy: 0.275\n",
      "Epoch: 61/100..  Training Loss: 0.585..  Test Loss: 0.608..  Test Accuracy: 0.275\n",
      "Epoch: 71/100..  Training Loss: 0.583..  Test Loss: 0.608..  Test Accuracy: 0.300\n",
      "Epoch: 81/100..  Training Loss: 0.582..  Test Loss: 0.608..  Test Accuracy: 0.300\n",
      "Epoch: 91/100..  Training Loss: 0.580..  Test Loss: 0.608..  Test Accuracy: 0.350\n"
     ]
    }
   ],
   "source": [
    "epochs = 100\n",
    "batch_size = 1\n",
    "print_every = 10\n",
    "train_losses, test_losses = [], []\n",
    "\n",
    "torchmodel.train()\n",
    "\n",
    "for e in range(epochs):\n",
    "    running_loss = 0    \n",
    "        \n",
    "    for iX, iY in zip(tX, tY):\n",
    "        optimizer.zero_grad()\n",
    "        \n",
    "        iX = iX.view(1, iX.shape[0])\n",
    "        iY = iY.view(1, iY.shape[0]).type(torch.DoubleTensor)\n",
    "        output = torchmodel.forward(iX)\n",
    "        loss = criterion(output, iY)\n",
    "        loss.backward()\n",
    "        \n",
    "        optimizer.step()\n",
    "        running_loss += loss.item()\n",
    "        \n",
    "    else:\n",
    "        test_loss = 0\n",
    "        accuracy = 0\n",
    "        \n",
    "        with torch.no_grad():\n",
    "            for iX, iY in zip(tX_test, tY_test):\n",
    "                iX = iX.view(1, iX.shape[0])\n",
    "                iY = iY.view(1, iY.shape[0]).type(torch.DoubleTensor)\n",
    "                logps = torchmodel.forward(iX)\n",
    "                test_loss += criterion(logps, iY)\n",
    "                \n",
    "                ps = torch.exp(logps)\n",
    "                top_p, top_class = ps.topk(2, dim=1)\n",
    "\n",
    "                equals = top_class == iY.view(*top_class.shape).type(torch.LongTensor)\n",
    "                accuracy += torch.mean(equals.type(torch.FloatTensor))\n",
    "                \n",
    "        train_losses.append(running_loss/len(X))\n",
    "        test_losses.append(test_loss/len(X_test))\n",
    "\n",
    "        if e%print_every == 0:\n",
    "            print(\"Epoch: {}/{}.. \".format(e+1, epochs),\n",
    "                  \"Training Loss: {:.3f}.. \".format(running_loss/len(X)),\n",
    "                  \"Test Loss: {:.3f}.. \".format(test_loss/len(X_test)),\n",
    "                  \"Test Accuracy: {:.3f}\".format(accuracy/len(X_test)))"
   ]
  },
  {
   "cell_type": "code",
   "execution_count": null,
   "metadata": {},
   "outputs": [],
   "source": []
  },
  {
   "cell_type": "code",
   "execution_count": null,
   "metadata": {},
   "outputs": [],
   "source": []
  }
 ],
 "metadata": {
  "kernelspec": {
   "display_name": "Python 3",
   "language": "python",
   "name": "python3"
  },
  "language_info": {
   "codemirror_mode": {
    "name": "ipython",
    "version": 3
   },
   "file_extension": ".py",
   "mimetype": "text/x-python",
   "name": "python",
   "nbconvert_exporter": "python",
   "pygments_lexer": "ipython3",
   "version": "3.6.7"
  }
 },
 "nbformat": 4,
 "nbformat_minor": 2
}
